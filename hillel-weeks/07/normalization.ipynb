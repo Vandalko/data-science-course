{
 "cells": [
  {
   "cell_type": "code",
   "execution_count": 1,
   "metadata": {},
   "outputs": [],
   "source": [
    "import torch"
   ]
  },
  {
   "cell_type": "code",
   "execution_count": 2,
   "metadata": {},
   "outputs": [],
   "source": [
    "\n",
    "x = torch.tensor([1., 2., 3., 4., 5.])\n",
    "y = torch.tensor([11., 21., 31., 41., 51.])"
   ]
  },
  {
   "cell_type": "code",
   "execution_count": 24,
   "metadata": {},
   "outputs": [
    {
     "data": {
      "text/plain": [
       "tensor(3.)"
      ]
     },
     "execution_count": 24,
     "metadata": {},
     "output_type": "execute_result"
    }
   ],
   "source": [
    "x_mean = x.mean()\n",
    "x_mean"
   ]
  },
  {
   "cell_type": "code",
   "execution_count": 6,
   "metadata": {},
   "outputs": [
    {
     "data": {
      "text/plain": [
       "tensor(1.5811)"
      ]
     },
     "execution_count": 6,
     "metadata": {},
     "output_type": "execute_result"
    }
   ],
   "source": [
    "x_std = x.std()\n",
    "x_std"
   ]
  },
  {
   "cell_type": "code",
   "execution_count": 7,
   "metadata": {},
   "outputs": [],
   "source": [
    "x_n = (x - x_mean) / x_std"
   ]
  },
  {
   "cell_type": "code",
   "execution_count": 8,
   "metadata": {},
   "outputs": [
    {
     "data": {
      "text/plain": [
       "tensor([-1.2649, -0.6325,  0.0000,  0.6325,  1.2649])"
      ]
     },
     "execution_count": 8,
     "metadata": {},
     "output_type": "execute_result"
    }
   ],
   "source": [
    "x_n"
   ]
  },
  {
   "cell_type": "code",
   "execution_count": 10,
   "metadata": {},
   "outputs": [
    {
     "data": {
      "text/plain": [
       "tensor([-1.2649, -0.6325,  0.0000,  0.6325,  1.2649])"
      ]
     },
     "execution_count": 10,
     "metadata": {},
     "output_type": "execute_result"
    }
   ],
   "source": [
    "y_mean = y.mean()\n",
    "y_std = y.std()\n",
    "y_n = (y - y_mean) / y_std\n",
    "y_n"
   ]
  },
  {
   "cell_type": "code",
   "execution_count": 20,
   "metadata": {},
   "outputs": [],
   "source": [
    "k = torch.tensor([0.5], requires_grad=True)\n",
    "b = torch.tensor([0.5], requires_grad=True)\n",
    "optimizer = torch.optim.SGD([k,b], lr=0.01)"
   ]
  },
  {
   "cell_type": "code",
   "execution_count": 25,
   "metadata": {},
   "outputs": [
    {
     "name": "stdout",
     "output_type": "stream",
     "text": [
      "step =  0\n",
      "step_loss tensor(3.7080, grad_fn=<MeanBackward1>)\n",
      "step_grad =  tensor([-0.5881])\n",
      "step_k, b =  tensor([0.6383], requires_grad=True) tensor([-1.8594], requires_grad=True)\n",
      "____________\n",
      "step =  5000\n",
      "step_loss tensor(2.5651e-12, grad_fn=<MeanBackward1>)\n",
      "step_grad =  tensor([-0.0000])\n",
      "step_k, b =  tensor([1.0000], requires_grad=True) tensor([1.4168e-13], requires_grad=True)\n",
      "____________\n",
      "step =  10000\n",
      "step_loss tensor(2.5651e-12, grad_fn=<MeanBackward1>)\n",
      "step_grad =  tensor([-0.0000])\n",
      "step_k, b =  tensor([1.0000], requires_grad=True) tensor([1.4168e-13], requires_grad=True)\n",
      "____________\n",
      "step =  15000\n",
      "step_loss tensor(2.5651e-12, grad_fn=<MeanBackward1>)\n",
      "step_grad =  tensor([-0.0000])\n",
      "step_k, b =  tensor([1.0000], requires_grad=True) tensor([1.4168e-13], requires_grad=True)\n",
      "____________\n",
      "step =  20000\n",
      "step_loss tensor(2.5651e-12, grad_fn=<MeanBackward1>)\n",
      "step_grad =  tensor([-0.0000])\n",
      "step_k, b =  tensor([1.0000], requires_grad=True) tensor([1.4168e-13], requires_grad=True)\n",
      "____________\n"
     ]
    }
   ],
   "source": [
    "for _ in range(20001):\n",
    "    y_n_ = k*x_n + b\n",
    "    loss_vector = (y_n_ - y_n)**2\n",
    "    loss = loss_vector.mean()\n",
    "    optimizer.zero_grad() # clean all grad\n",
    "    loss.backward() # ~backprob~ step\n",
    "    optimizer.step()\n",
    "    \n",
    "    if _ % 5000 == 0:\n",
    "        print('step = ', _)\n",
    "        print('step_loss', loss)\n",
    "        print('step_grad = ', k.grad)\n",
    "        print('step_k, b = ', k , b)\n",
    "        print('____________')"
   ]
  },
  {
   "cell_type": "code",
   "execution_count": null,
   "metadata": {},
   "outputs": [],
   "source": []
  }
 ],
 "metadata": {
  "kernelspec": {
   "display_name": "Python 3",
   "language": "python",
   "name": "python3"
  },
  "language_info": {
   "codemirror_mode": {
    "name": "ipython",
    "version": 3
   },
   "file_extension": ".py",
   "mimetype": "text/x-python",
   "name": "python",
   "nbconvert_exporter": "python",
   "pygments_lexer": "ipython3",
   "version": "3.6.5"
  }
 },
 "nbformat": 4,
 "nbformat_minor": 2
}
