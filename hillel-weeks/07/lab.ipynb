{
 "cells": [
  {
   "cell_type": "code",
   "execution_count": 2,
   "metadata": {},
   "outputs": [],
   "source": [
    "import torch\n",
    "from torchvision import datasets\n",
    "from torchvision import transforms\n",
    "import matplotlib.pyplot as plt"
   ]
  },
  {
   "cell_type": "code",
   "execution_count": 3,
   "metadata": {},
   "outputs": [],
   "source": [
    "batch_size = 1"
   ]
  },
  {
   "cell_type": "code",
   "execution_count": 4,
   "metadata": {},
   "outputs": [],
   "source": [
    "train_loader = torch.utils.data.DataLoader(datasets.MNIST('data', train=True, download=True, transform=transforms.ToTensor()), batch_size=batch_size, shuffle=True)"
   ]
  },
  {
   "cell_type": "code",
   "execution_count": 5,
   "metadata": {},
   "outputs": [
    {
     "name": "stdout",
     "output_type": "stream",
     "text": [
      "tensor([[[[0.0000, 0.0000, 0.0000, 0.0000, 0.0000, 0.0000, 0.0000, 0.0000,\n",
      "           0.0000, 0.0000, 0.0000, 0.0000, 0.0000, 0.0000, 0.0000, 0.0000,\n",
      "           0.0000, 0.0000, 0.0000, 0.0000, 0.0000, 0.0000, 0.0000, 0.0000,\n",
      "           0.0000, 0.0000, 0.0000, 0.0000],\n",
      "          [0.0000, 0.0000, 0.0000, 0.0000, 0.0000, 0.0000, 0.0000, 0.0000,\n",
      "           0.0000, 0.0000, 0.0000, 0.0000, 0.0000, 0.0000, 0.0000, 0.0000,\n",
      "           0.0000, 0.0000, 0.0000, 0.0000, 0.0000, 0.0000, 0.0000, 0.0000,\n",
      "           0.0000, 0.0000, 0.0000, 0.0000],\n",
      "          [0.0000, 0.0000, 0.0000, 0.0000, 0.0000, 0.0000, 0.0000, 0.0000,\n",
      "           0.0000, 0.0000, 0.0000, 0.0000, 0.0000, 0.0000, 0.0000, 0.0000,\n",
      "           0.0000, 0.0000, 0.0000, 0.0000, 0.0000, 0.0000, 0.0000, 0.0000,\n",
      "           0.0000, 0.0000, 0.0000, 0.0000],\n",
      "          [0.0000, 0.0000, 0.0000, 0.0000, 0.0000, 0.0000, 0.0000, 0.0000,\n",
      "           0.0000, 0.0000, 0.0000, 0.0000, 0.0000, 0.0000, 0.0000, 0.0000,\n",
      "           0.0000, 0.0000, 0.0000, 0.0000, 0.0000, 0.0000, 0.0000, 0.0000,\n",
      "           0.0000, 0.0000, 0.0000, 0.0000],\n",
      "          [0.0000, 0.0000, 0.0000, 0.0000, 0.0000, 0.0000, 0.0000, 0.0000,\n",
      "           0.0000, 0.0000, 0.0000, 0.0000, 0.1176, 0.3608, 0.6667, 0.8471,\n",
      "           0.1765, 0.1176, 0.0000, 0.0000, 0.0000, 0.0000, 0.0000, 0.0000,\n",
      "           0.0000, 0.0000, 0.0000, 0.0000],\n",
      "          [0.0000, 0.0000, 0.0000, 0.0000, 0.0000, 0.0000, 0.0000, 0.0000,\n",
      "           0.0000, 0.0000, 0.0157, 0.3020, 0.8353, 0.9961, 0.9961, 0.9961,\n",
      "           0.9961, 0.9333, 0.5608, 0.1412, 0.0000, 0.0000, 0.0000, 0.0000,\n",
      "           0.0000, 0.0000, 0.0000, 0.0000],\n",
      "          [0.0000, 0.0000, 0.0000, 0.0000, 0.0000, 0.0000, 0.0000, 0.0000,\n",
      "           0.0000, 0.0000, 0.2471, 0.9961, 0.9961, 0.9961, 0.8863, 0.2157,\n",
      "           0.5608, 0.9922, 0.9961, 0.8392, 0.0078, 0.0000, 0.0000, 0.0000,\n",
      "           0.0000, 0.0000, 0.0000, 0.0000],\n",
      "          [0.0000, 0.0000, 0.0000, 0.0000, 0.0000, 0.0000, 0.0000, 0.0000,\n",
      "           0.0000, 0.1922, 0.9569, 0.9961, 0.9412, 0.5922, 0.0000, 0.0000,\n",
      "           0.0000, 0.3686, 0.9647, 0.9961, 0.3922, 0.0000, 0.0000, 0.0000,\n",
      "           0.0000, 0.0000, 0.0000, 0.0000],\n",
      "          [0.0000, 0.0000, 0.0000, 0.0000, 0.0000, 0.0000, 0.0000, 0.0000,\n",
      "           0.0000, 0.4588, 0.9961, 0.9961, 0.3412, 0.0000, 0.0000, 0.0000,\n",
      "           0.0000, 0.0000, 0.8118, 0.9961, 0.7412, 0.0000, 0.0000, 0.0000,\n",
      "           0.0000, 0.0000, 0.0000, 0.0000],\n",
      "          [0.0000, 0.0000, 0.0000, 0.0000, 0.0000, 0.0000, 0.0000, 0.0000,\n",
      "           0.0078, 0.7569, 0.9961, 0.8078, 0.0275, 0.0000, 0.0000, 0.0000,\n",
      "           0.0000, 0.0118, 0.8196, 0.9961, 0.7412, 0.0000, 0.0000, 0.0000,\n",
      "           0.0000, 0.0000, 0.0000, 0.0000],\n",
      "          [0.0000, 0.0000, 0.0000, 0.0000, 0.0000, 0.0000, 0.0000, 0.0000,\n",
      "           0.1412, 0.9490, 0.9961, 0.3804, 0.0000, 0.0000, 0.0000, 0.0000,\n",
      "           0.0000, 0.5020, 0.9961, 0.9961, 0.6588, 0.0000, 0.0000, 0.0000,\n",
      "           0.0000, 0.0000, 0.0000, 0.0000],\n",
      "          [0.0000, 0.0000, 0.0000, 0.0000, 0.0000, 0.0000, 0.0000, 0.0000,\n",
      "           0.0000, 0.7451, 0.9961, 0.7059, 0.0000, 0.0000, 0.0000, 0.0000,\n",
      "           0.3608, 0.9216, 0.9961, 0.9608, 0.2118, 0.0000, 0.0000, 0.0000,\n",
      "           0.0000, 0.0000, 0.0000, 0.0000],\n",
      "          [0.0000, 0.0000, 0.0000, 0.0000, 0.0000, 0.0000, 0.0000, 0.0000,\n",
      "           0.0000, 0.5373, 0.9961, 0.9843, 0.7725, 0.4941, 0.4941, 0.6431,\n",
      "           0.9922, 0.9961, 0.9725, 0.4745, 0.0000, 0.0000, 0.0000, 0.0000,\n",
      "           0.0000, 0.0000, 0.0000, 0.0000],\n",
      "          [0.0000, 0.0000, 0.0000, 0.0000, 0.0000, 0.0000, 0.0000, 0.0000,\n",
      "           0.0000, 0.1176, 0.7490, 0.9961, 0.9961, 0.9961, 0.9961, 0.9961,\n",
      "           0.9961, 0.8549, 0.3020, 0.0000, 0.0000, 0.0000, 0.0000, 0.0000,\n",
      "           0.0000, 0.0000, 0.0000, 0.0000],\n",
      "          [0.0000, 0.0000, 0.0000, 0.0000, 0.0000, 0.0000, 0.0000, 0.0000,\n",
      "           0.0000, 0.0000, 0.0431, 0.9961, 0.9961, 0.9961, 0.9961, 0.9961,\n",
      "           0.9961, 0.3412, 0.0000, 0.0000, 0.0000, 0.0000, 0.0000, 0.0000,\n",
      "           0.0000, 0.0000, 0.0000, 0.0000],\n",
      "          [0.0000, 0.0000, 0.0000, 0.0000, 0.0000, 0.0000, 0.0000, 0.0000,\n",
      "           0.0000, 0.0000, 0.3020, 0.9961, 0.9961, 0.9961, 0.9961, 0.9961,\n",
      "           0.9608, 0.1961, 0.0000, 0.0000, 0.0000, 0.0000, 0.0000, 0.0000,\n",
      "           0.0000, 0.0000, 0.0000, 0.0000],\n",
      "          [0.0000, 0.0000, 0.0000, 0.0000, 0.0000, 0.0000, 0.0000, 0.0000,\n",
      "           0.0000, 0.2157, 0.9647, 0.9961, 0.9176, 0.7765, 0.9961, 0.9961,\n",
      "           0.9961, 0.4392, 0.0000, 0.0000, 0.0000, 0.0000, 0.0000, 0.0000,\n",
      "           0.0000, 0.0000, 0.0000, 0.0000],\n",
      "          [0.0000, 0.0000, 0.0000, 0.0000, 0.0000, 0.0000, 0.0000, 0.0000,\n",
      "           0.0000, 0.3216, 0.9961, 0.9961, 0.3137, 0.0157, 0.4627, 0.9176,\n",
      "           0.9961, 0.9529, 0.3176, 0.0000, 0.0000, 0.0000, 0.0000, 0.0000,\n",
      "           0.0000, 0.0000, 0.0000, 0.0000],\n",
      "          [0.0000, 0.0000, 0.0000, 0.0000, 0.0000, 0.0000, 0.0000, 0.0000,\n",
      "           0.0000, 0.7294, 0.9961, 0.8941, 0.1098, 0.0000, 0.0000, 0.1882,\n",
      "           0.9647, 0.9961, 0.6118, 0.0000, 0.0000, 0.0000, 0.0000, 0.0000,\n",
      "           0.0000, 0.0000, 0.0000, 0.0000],\n",
      "          [0.0000, 0.0000, 0.0000, 0.0000, 0.0000, 0.0000, 0.0000, 0.0000,\n",
      "           0.0000, 0.7451, 0.9961, 0.8039, 0.0000, 0.0000, 0.0000, 0.0000,\n",
      "           0.9373, 1.0000, 0.6118, 0.0000, 0.0000, 0.0000, 0.0000, 0.0000,\n",
      "           0.0000, 0.0000, 0.0000, 0.0000],\n",
      "          [0.0000, 0.0000, 0.0000, 0.0000, 0.0000, 0.0000, 0.0000, 0.0000,\n",
      "           0.0000, 0.7451, 0.9961, 0.8039, 0.0000, 0.0000, 0.0000, 0.0000,\n",
      "           0.9373, 0.9961, 0.6118, 0.0000, 0.0000, 0.0000, 0.0000, 0.0000,\n",
      "           0.0000, 0.0000, 0.0000, 0.0000],\n",
      "          [0.0000, 0.0000, 0.0000, 0.0000, 0.0000, 0.0000, 0.0000, 0.0000,\n",
      "           0.0000, 0.5098, 0.9961, 0.9961, 0.8353, 0.5529, 0.8275, 0.9804,\n",
      "           0.9961, 0.9686, 0.5333, 0.0000, 0.0000, 0.0000, 0.0000, 0.0000,\n",
      "           0.0000, 0.0000, 0.0000, 0.0000],\n",
      "          [0.0000, 0.0000, 0.0000, 0.0000, 0.0000, 0.0000, 0.0000, 0.0000,\n",
      "           0.0000, 0.2353, 0.8510, 0.9961, 0.9961, 0.9961, 0.9961, 0.9961,\n",
      "           0.9961, 0.4667, 0.0000, 0.0000, 0.0000, 0.0000, 0.0000, 0.0000,\n",
      "           0.0000, 0.0000, 0.0000, 0.0000],\n",
      "          [0.0000, 0.0000, 0.0000, 0.0000, 0.0000, 0.0000, 0.0000, 0.0000,\n",
      "           0.0000, 0.0000, 0.0902, 0.5725, 0.8980, 0.9961, 0.9059, 0.5725,\n",
      "           0.3569, 0.0510, 0.0000, 0.0000, 0.0000, 0.0000, 0.0000, 0.0000,\n",
      "           0.0000, 0.0000, 0.0000, 0.0000],\n",
      "          [0.0000, 0.0000, 0.0000, 0.0000, 0.0000, 0.0000, 0.0000, 0.0000,\n",
      "           0.0000, 0.0000, 0.0000, 0.0000, 0.0000, 0.0000, 0.0000, 0.0000,\n",
      "           0.0000, 0.0000, 0.0000, 0.0000, 0.0000, 0.0000, 0.0000, 0.0000,\n",
      "           0.0000, 0.0000, 0.0000, 0.0000],\n",
      "          [0.0000, 0.0000, 0.0000, 0.0000, 0.0000, 0.0000, 0.0000, 0.0000,\n",
      "           0.0000, 0.0000, 0.0000, 0.0000, 0.0000, 0.0000, 0.0000, 0.0000,\n",
      "           0.0000, 0.0000, 0.0000, 0.0000, 0.0000, 0.0000, 0.0000, 0.0000,\n",
      "           0.0000, 0.0000, 0.0000, 0.0000],\n",
      "          [0.0000, 0.0000, 0.0000, 0.0000, 0.0000, 0.0000, 0.0000, 0.0000,\n",
      "           0.0000, 0.0000, 0.0000, 0.0000, 0.0000, 0.0000, 0.0000, 0.0000,\n",
      "           0.0000, 0.0000, 0.0000, 0.0000, 0.0000, 0.0000, 0.0000, 0.0000,\n",
      "           0.0000, 0.0000, 0.0000, 0.0000],\n",
      "          [0.0000, 0.0000, 0.0000, 0.0000, 0.0000, 0.0000, 0.0000, 0.0000,\n",
      "           0.0000, 0.0000, 0.0000, 0.0000, 0.0000, 0.0000, 0.0000, 0.0000,\n",
      "           0.0000, 0.0000, 0.0000, 0.0000, 0.0000, 0.0000, 0.0000, 0.0000,\n",
      "           0.0000, 0.0000, 0.0000, 0.0000]]]]) tensor([8])\n"
     ]
    }
   ],
   "source": [
    "for d, t in train_loader:\n",
    "    print(d, t)\n",
    "    break"
   ]
  },
  {
   "cell_type": "code",
   "execution_count": 6,
   "metadata": {},
   "outputs": [],
   "source": [
    "test_loader = torch.utils.data.DataLoader(datasets.MNIST('data', train=False, \n",
    "                                                          download=True, \n",
    "                                                          transform=transforms.ToTensor()), \n",
    "                                                       batch_size=batch_size, shuffle=True)"
   ]
  },
  {
   "cell_type": "code",
   "execution_count": 88,
   "metadata": {},
   "outputs": [],
   "source": [
    "device = torch.device(\"cuda\")\n",
    "torch.cuda.init()"
   ]
  },
  {
   "cell_type": "code",
   "execution_count": 89,
   "metadata": {},
   "outputs": [],
   "source": [
    "def oneHot(target):\n",
    "    onehot = torch.zeros(10, device=device)\n",
    "    onehot[target] = 1\n",
    "    return onehot"
   ]
  },
  {
   "cell_type": "code",
   "execution_count": 94,
   "metadata": {},
   "outputs": [],
   "source": [
    "BCE = torch.nn.BCELoss()\n",
    "Sigmoid = torch.nn.Sigmoid()"
   ]
  },
  {
   "cell_type": "code",
   "execution_count": 103,
   "metadata": {},
   "outputs": [],
   "source": [
    "w1 = torch.randn(10, 784, requires_grad=True, device=device)\n",
    "b1 = torch.randn(10, requires_grad=True, device=device)\n",
    "\n",
    "w2 = torch.randn(10, 10, requires_grad=True, device=device)\n",
    "b2 = torch.randn(10, requires_grad=True, device=device)\n",
    "\n",
    "\n",
    "learning_rate = 0.0001\n",
    "optimizator = torch.optim.Adam([w1, b1, w2, b2], lr=learning_rate)"
   ]
  },
  {
   "cell_type": "code",
   "execution_count": 104,
   "metadata": {},
   "outputs": [
    {
     "name": "stdout",
     "output_type": "stream",
     "text": [
      "tensor(0.3117, device='cuda:0', grad_fn=<DivBackward0>)\n",
      "tensor(0.1961, device='cuda:0', grad_fn=<DivBackward0>)\n",
      "tensor(0.1488, device='cuda:0', grad_fn=<DivBackward0>)\n",
      "tensor(0.1242, device='cuda:0', grad_fn=<DivBackward0>)\n",
      "tensor(0.1089, device='cuda:0', grad_fn=<DivBackward0>)\n",
      "tensor(0.0989, device='cuda:0', grad_fn=<DivBackward0>)\n",
      "tensor(0.0922, device='cuda:0', grad_fn=<DivBackward0>)\n",
      "tensor(0.0874, device='cuda:0', grad_fn=<DivBackward0>)\n",
      "tensor(0.0838, device='cuda:0', grad_fn=<DivBackward0>)\n",
      "tensor(0.0809, device='cuda:0', grad_fn=<DivBackward0>)\n",
      "tensor(0.0785, device='cuda:0', grad_fn=<DivBackward0>)\n",
      "tensor(0.0765, device='cuda:0', grad_fn=<DivBackward0>)\n",
      "tensor(0.0747, device='cuda:0', grad_fn=<DivBackward0>)\n",
      "tensor(0.0733, device='cuda:0', grad_fn=<DivBackward0>)\n",
      "tensor(0.0719, device='cuda:0', grad_fn=<DivBackward0>)\n",
      "tensor(0.0707, device='cuda:0', grad_fn=<DivBackward0>)\n",
      "tensor(0.0696, device='cuda:0', grad_fn=<DivBackward0>)\n",
      "tensor(0.0687, device='cuda:0', grad_fn=<DivBackward0>)\n",
      "tensor(0.0677, device='cuda:0', grad_fn=<DivBackward0>)\n",
      "tensor(0.0669, device='cuda:0', grad_fn=<DivBackward0>)\n",
      "tensor(0.0661, device='cuda:0', grad_fn=<DivBackward0>)\n",
      "tensor(0.0654, device='cuda:0', grad_fn=<DivBackward0>)\n",
      "tensor(0.0648, device='cuda:0', grad_fn=<DivBackward0>)\n",
      "tensor(0.0641, device='cuda:0', grad_fn=<DivBackward0>)\n",
      "tensor(0.0636, device='cuda:0', grad_fn=<DivBackward0>)\n",
      "tensor(0.0630, device='cuda:0', grad_fn=<DivBackward0>)\n",
      "tensor(0.0625, device='cuda:0', grad_fn=<DivBackward0>)\n",
      "tensor(0.0620, device='cuda:0', grad_fn=<DivBackward0>)\n",
      "tensor(0.0615, device='cuda:0', grad_fn=<DivBackward0>)\n",
      "tensor(0.0610, device='cuda:0', grad_fn=<DivBackward0>)\n",
      "tensor(0.0606, device='cuda:0', grad_fn=<DivBackward0>)\n",
      "tensor(0.0602, device='cuda:0', grad_fn=<DivBackward0>)\n",
      "tensor(0.0598, device='cuda:0', grad_fn=<DivBackward0>)\n",
      "tensor(0.0595, device='cuda:0', grad_fn=<DivBackward0>)\n",
      "tensor(0.0591, device='cuda:0', grad_fn=<DivBackward0>)\n",
      "tensor(0.0587, device='cuda:0', grad_fn=<DivBackward0>)\n",
      "tensor(0.0584, device='cuda:0', grad_fn=<DivBackward0>)\n",
      "tensor(0.0581, device='cuda:0', grad_fn=<DivBackward0>)\n",
      "tensor(0.0578, device='cuda:0', grad_fn=<DivBackward0>)\n",
      "tensor(0.0575, device='cuda:0', grad_fn=<DivBackward0>)\n",
      "tensor(0.0572, device='cuda:0', grad_fn=<DivBackward0>)\n",
      "tensor(0.0569, device='cuda:0', grad_fn=<DivBackward0>)\n",
      "tensor(0.0566, device='cuda:0', grad_fn=<DivBackward0>)\n",
      "tensor(0.0564, device='cuda:0', grad_fn=<DivBackward0>)\n",
      "tensor(0.0561, device='cuda:0', grad_fn=<DivBackward0>)\n",
      "tensor(0.0559, device='cuda:0', grad_fn=<DivBackward0>)\n",
      "tensor(0.0556, device='cuda:0', grad_fn=<DivBackward0>)\n",
      "tensor(0.0554, device='cuda:0', grad_fn=<DivBackward0>)\n",
      "tensor(0.0552, device='cuda:0', grad_fn=<DivBackward0>)\n",
      "tensor(0.0549, device='cuda:0', grad_fn=<DivBackward0>)\n",
      "tensor(0.0547, device='cuda:0', grad_fn=<DivBackward0>)\n",
      "tensor(0.0545, device='cuda:0', grad_fn=<DivBackward0>)\n",
      "tensor(0.0543, device='cuda:0', grad_fn=<DivBackward0>)\n",
      "tensor(0.0541, device='cuda:0', grad_fn=<DivBackward0>)\n",
      "tensor(0.0539, device='cuda:0', grad_fn=<DivBackward0>)\n",
      "tensor(0.0537, device='cuda:0', grad_fn=<DivBackward0>)\n",
      "tensor(0.0535, device='cuda:0', grad_fn=<DivBackward0>)\n",
      "tensor(0.0533, device='cuda:0', grad_fn=<DivBackward0>)\n",
      "tensor(0.0531, device='cuda:0', grad_fn=<DivBackward0>)\n",
      "tensor(0.0529, device='cuda:0', grad_fn=<DivBackward0>)\n",
      "tensor(0.0527, device='cuda:0', grad_fn=<DivBackward0>)\n",
      "tensor(0.0526, device='cuda:0', grad_fn=<DivBackward0>)\n",
      "tensor(0.0524, device='cuda:0', grad_fn=<DivBackward0>)\n",
      "tensor(0.0522, device='cuda:0', grad_fn=<DivBackward0>)\n",
      "tensor(0.0520, device='cuda:0', grad_fn=<DivBackward0>)\n",
      "tensor(0.0519, device='cuda:0', grad_fn=<DivBackward0>)\n",
      "tensor(0.0517, device='cuda:0', grad_fn=<DivBackward0>)\n",
      "tensor(0.0516, device='cuda:0', grad_fn=<DivBackward0>)\n",
      "tensor(0.0514, device='cuda:0', grad_fn=<DivBackward0>)\n",
      "tensor(0.0513, device='cuda:0', grad_fn=<DivBackward0>)\n",
      "tensor(0.0511, device='cuda:0', grad_fn=<DivBackward0>)\n",
      "tensor(0.0510, device='cuda:0', grad_fn=<DivBackward0>)\n",
      "tensor(0.0508, device='cuda:0', grad_fn=<DivBackward0>)\n",
      "tensor(0.0507, device='cuda:0', grad_fn=<DivBackward0>)\n",
      "tensor(0.0505, device='cuda:0', grad_fn=<DivBackward0>)\n",
      "tensor(0.0504, device='cuda:0', grad_fn=<DivBackward0>)\n",
      "tensor(0.0503, device='cuda:0', grad_fn=<DivBackward0>)\n",
      "tensor(0.0502, device='cuda:0', grad_fn=<DivBackward0>)\n",
      "tensor(0.0500, device='cuda:0', grad_fn=<DivBackward0>)\n",
      "tensor(0.0499, device='cuda:0', grad_fn=<DivBackward0>)\n",
      "tensor(0.0498, device='cuda:0', grad_fn=<DivBackward0>)\n",
      "tensor(0.0497, device='cuda:0', grad_fn=<DivBackward0>)\n",
      "tensor(0.0495, device='cuda:0', grad_fn=<DivBackward0>)\n",
      "tensor(0.0493, device='cuda:0', grad_fn=<DivBackward0>)\n",
      "tensor(0.0493, device='cuda:0', grad_fn=<DivBackward0>)\n",
      "tensor(0.0492, device='cuda:0', grad_fn=<DivBackward0>)\n",
      "tensor(0.0490, device='cuda:0', grad_fn=<DivBackward0>)\n",
      "tensor(0.0489, device='cuda:0', grad_fn=<DivBackward0>)\n",
      "tensor(0.0488, device='cuda:0', grad_fn=<DivBackward0>)\n",
      "tensor(0.0487, device='cuda:0', grad_fn=<DivBackward0>)\n",
      "tensor(0.0486, device='cuda:0', grad_fn=<DivBackward0>)\n",
      "tensor(0.0485, device='cuda:0', grad_fn=<DivBackward0>)\n",
      "tensor(0.0484, device='cuda:0', grad_fn=<DivBackward0>)\n",
      "tensor(0.0483, device='cuda:0', grad_fn=<DivBackward0>)\n",
      "tensor(0.0481, device='cuda:0', grad_fn=<DivBackward0>)\n",
      "tensor(0.0480, device='cuda:0', grad_fn=<DivBackward0>)\n",
      "tensor(0.0479, device='cuda:0', grad_fn=<DivBackward0>)\n",
      "tensor(0.0478, device='cuda:0', grad_fn=<DivBackward0>)\n",
      "tensor(0.0477, device='cuda:0', grad_fn=<DivBackward0>)\n",
      "tensor(0.0476, device='cuda:0', grad_fn=<DivBackward0>)\n"
     ]
    }
   ],
   "source": [
    "for _ in range(100):\n",
    "    tot_loss = 0\n",
    "    for data, target in train_loader:\n",
    "        x = data.reshape(784).cuda()\n",
    "        y = oneHot(target)\n",
    "\n",
    "        a1_ = Sigmoid(torch.mv(w1,x)+b1)\n",
    "        a2_ = Sigmoid(torch.mv(w2,a1_)+b2)\n",
    "        \n",
    "        loss = BCE(a2_, y)\n",
    "        \n",
    "        optimizator.zero_grad()\n",
    "        loss.backward()\n",
    "        optimizator.step()\n",
    "        tot_loss += loss\n",
    "    tot_loss = tot_loss / 60000\n",
    "    print(tot_loss)"
   ]
  },
  {
   "cell_type": "code",
   "execution_count": 105,
   "metadata": {},
   "outputs": [
    {
     "data": {
      "text/plain": [
       "0.9216"
      ]
     },
     "execution_count": 105,
     "metadata": {},
     "output_type": "execute_result"
    }
   ],
   "source": [
    "cnt = 0\n",
    "for data, target in test_loader:\n",
    "    x = data.reshape(784).cuda()\n",
    "    \n",
    "    a1_ = Sigmoid(torch.mv(w1,x)+b1)\n",
    "    a2_ = Sigmoid(torch.mv(w2,a1_)+b2)\n",
    "\n",
    "    y_ = a2_.to(torch.device(\"cpu\")).argmax()\n",
    "    \n",
    "    if y_ == target:\n",
    "        cnt += 1\n",
    "cnt/10000"
   ]
  },
  {
   "cell_type": "code",
   "execution_count": 106,
   "metadata": {},
   "outputs": [
    {
     "data": {
      "text/plain": [
       "<matplotlib.image.AxesImage at 0x7f7cc05d0710>"
      ]
     },
     "execution_count": 106,
     "metadata": {},
     "output_type": "execute_result"
    },
    {
     "data": {
      "image/png": "[encoded data removed]",
      "text/plain": [
       "<Figure size 432x288 with 1 Axes>"
      ]
     },
     "metadata": {},
     "output_type": "display_data"
    }
   ],
   "source": [
    "plt.imshow(w1.cpu()[1].detach().numpy().reshape(28, 28))"
   ]
  },
  {
   "cell_type": "code",
   "execution_count": null,
   "metadata": {},
   "outputs": [],
   "source": []
  },
  {
   "cell_type": "code",
   "execution_count": null,
   "metadata": {},
   "outputs": [],
   "source": []
  },
  {
   "cell_type": "code",
   "execution_count": null,
   "metadata": {},
   "outputs": [],
   "source": []
  }
 ],
 "metadata": {
  "kernelspec": {
   "display_name": "Python 3",
   "language": "python",
   "name": "python3"
  },
  "language_info": {
   "codemirror_mode": {
    "name": "ipython",
    "version": 3
   },
   "file_extension": ".py",
   "mimetype": "text/x-python",
   "name": "python",
   "nbconvert_exporter": "python",
   "pygments_lexer": "ipython3",
   "version": "3.6.5"
  }
 },
 "nbformat": 4,
 "nbformat_minor": 2
}
