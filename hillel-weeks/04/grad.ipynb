{
 "cells": [
  {
   "cell_type": "code",
   "execution_count": 118,
   "metadata": {},
   "outputs": [],
   "source": [
    "import torch"
   ]
  },
  {
   "cell_type": "code",
   "execution_count": 119,
   "metadata": {},
   "outputs": [
    {
     "name": "stdout",
     "output_type": "stream",
     "text": [
      "tensor([ 1.]) <class 'torch.Tensor'> False\n"
     ]
    }
   ],
   "source": [
    "x = torch.tensor([1.])\n",
    "y = torch.tensor([10.])\n",
    "\n",
    "print(x, type(x), x.requires_grad)"
   ]
  },
  {
   "cell_type": "code",
   "execution_count": 120,
   "metadata": {},
   "outputs": [
    {
     "name": "stdout",
     "output_type": "stream",
     "text": [
      "tensor([ 2.]) <class 'torch.Tensor'> True\n"
     ]
    }
   ],
   "source": [
    "k = torch.tensor([2.], requires_grad=True)\n",
    "\n",
    "print(k, type(k), k.requires_grad)"
   ]
  },
  {
   "cell_type": "code",
   "execution_count": 121,
   "metadata": {},
   "outputs": [
    {
     "name": "stdout",
     "output_type": "stream",
     "text": [
      "tensor([ 2.]) <class 'torch.Tensor'> True\n"
     ]
    }
   ],
   "source": [
    "y_ = k * x\n",
    "\n",
    "print(y_, type(y_), y_.requires_grad)"
   ]
  },
  {
   "cell_type": "code",
   "execution_count": 122,
   "metadata": {},
   "outputs": [
    {
     "name": "stdout",
     "output_type": "stream",
     "text": [
      "tensor([ 64.]) <class 'torch.Tensor'> True\n"
     ]
    }
   ],
   "source": [
    "loss = (y - y_)**2\n",
    "\n",
    "print(loss, type(loss), loss.requires_grad)"
   ]
  },
  {
   "cell_type": "code",
   "execution_count": 123,
   "metadata": {},
   "outputs": [
    {
     "name": "stdout",
     "output_type": "stream",
     "text": [
      "SGD (\n",
      "Parameter Group 0\n",
      "    dampening: 0\n",
      "    lr: 0.1\n",
      "    momentum: 0\n",
      "    nesterov: False\n",
      "    weight_decay: 0\n",
      ") <class 'torch.optim.sgd.SGD'>\n"
     ]
    }
   ],
   "source": [
    "learning_rate = 0.1\n",
    "optimizer = torch.optim.SGD([k,], lr=learning_rate)\n",
    "\n",
    "print(optimizer, type(optimizer)) # Parameter of SGD optimizer -> lr=learning_rate"
   ]
  },
  {
   "cell_type": "code",
   "execution_count": 125,
   "metadata": {},
   "outputs": [
    {
     "name": "stdout",
     "output_type": "stream",
     "text": [
      "step_y_ =  tensor([ 9.9078])\n",
      "step_loss =  tensor(1.00000e-03 *\n",
      "       [ 8.5070])\n",
      "last_grad =  tensor([-0.2306])\n",
      "zero_grad =  tensor([ 0.])\n",
      "step_grad =  tensor([-0.1845])\n",
      "gradient_descent_value =  tensor(1.00000e-02 *\n",
      "       [ 1.8447])\n",
      "predicted_step_key =  tensor([ 9.9262])\n",
      "step_k =  tensor([ 9.9262])\n",
      "____________\n"
     ]
    }
   ],
   "source": [
    "# Learning Loop # yes, yes, you can do next:\n",
    "# for _ in range(n):\n",
    "\n",
    "print('last_y_ = ', y_)\n",
    "y_ = k * x\n",
    "print('step_y_ = ', y_)\n",
    "\n",
    "print('last_loss = ', loss)\n",
    "loss = (y - y_)**2\n",
    "print('step_loss = ', loss)\n",
    "\n",
    "print('last_k = ', k)\n",
    "print('last_grad = ', k.grad) # here starts The Loop # first time no .grad\n",
    "optimizer.zero_grad() # clean all grad\n",
    "print('zero_grad = ', k.grad)\n",
    "loss.backward() # ~backprob~ step\n",
    "print('step_grad = ', k.grad)\n",
    "print('gradient_descent_value = ', -learning_rate*k.grad)\n",
    "print('predicted_step_key = ', k - learning_rate*k.grad)\n",
    "\n",
    "optimizer.step()\n",
    "print('step_k = ', k)\n",
    "print('____________')"
   ]
  },
  {
   "cell_type": "code",
   "execution_count": null,
   "metadata": {},
   "outputs": [],
   "source": []
  },
  {
   "cell_type": "code",
   "execution_count": null,
   "metadata": {},
   "outputs": [],
   "source": []
  },
  {
   "cell_type": "code",
   "execution_count": null,
   "metadata": {},
   "outputs": [],
   "source": []
  }
 ],
 "metadata": {
  "kernelspec": {
   "display_name": "Python 3",
   "language": "python",
   "name": "python3"
  },
  "language_info": {
   "codemirror_mode": {
    "name": "ipython",
    "version": 3
   },
   "file_extension": ".py",
   "mimetype": "text/x-python",
   "name": "python",
   "nbconvert_exporter": "python",
   "pygments_lexer": "ipython3",
   "version": "3.6.6"
  }
 },
 "nbformat": 4,
 "nbformat_minor": 2
}
