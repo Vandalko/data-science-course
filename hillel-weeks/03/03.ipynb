{
 "cells": [
  {
   "cell_type": "code",
   "execution_count": 39,
   "metadata": {},
   "outputs": [
    {
     "name": "stdout",
     "output_type": "stream",
     "text": [
      "3\n",
      "0\n",
      "{1: ['person1', 'person01'], 2: ['person2'], 3: ['person3']}\n",
      "{1: ['person1', 'person2', 'person01'], -1: ['person3']}\n"
     ]
    }
   ],
   "source": [
    "def rng(lizt, lower, upper):\n",
    "    cnt = 0\n",
    "    for l in lizt:\n",
    "        if l >= lower and l <= upper:\n",
    "        #if l in range(lower, upper + 1):\n",
    "            cnt += 1\n",
    "    return cnt\n",
    "\n",
    "print(rng([1,2,3,4,1,1], 2, 4))\n",
    "print(rng([2,2,2,2,2,2,2], 3, 4))\n",
    "\n",
    "def unite_price(dct):\n",
    "    dict_price_person = {}\n",
    "    for person, price in dct.items():\n",
    "        if price in dict_price_person:\n",
    "            dict_price_person[price].append(person)\n",
    "        else:\n",
    "            dict_price_person[price] = [person]\n",
    "        #dict_price_person.setdefault(price, set([person])).add(person)\n",
    "    return dict_price_person\n",
    "\n",
    "print(unite_price({'person1':1, 'person2': 2, 'person3':3, 'person01': 1}))\n",
    "print(unite_price({'person1':1, 'person2': 1, 'person3':-1, 'person01': 1}))"
   ]
  },
  {
   "cell_type": "code",
   "execution_count": null,
   "metadata": {},
   "outputs": [],
   "source": []
  },
  {
   "cell_type": "code",
   "execution_count": null,
   "metadata": {},
   "outputs": [],
   "source": []
  }
 ],
 "metadata": {
  "kernelspec": {
   "display_name": "Python 3",
   "language": "python",
   "name": "python3"
  },
  "language_info": {
   "codemirror_mode": {
    "name": "ipython",
    "version": 3
   },
   "file_extension": ".py",
   "mimetype": "text/x-python",
   "name": "python",
   "nbconvert_exporter": "python",
   "pygments_lexer": "ipython3",
   "version": "3.6.5"
  }
 },
 "nbformat": 4,
 "nbformat_minor": 2
}
