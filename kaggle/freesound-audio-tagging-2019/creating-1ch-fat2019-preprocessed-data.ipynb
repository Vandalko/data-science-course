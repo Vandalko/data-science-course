{
 "cells": [
  {
   "cell_type": "markdown",
   "metadata": {},
   "source": [
    "# Code to create FAT2019 Preprocessed Mel-spectrogram Dataset\n",
    "\n",
    "This is the code to create [FAT2019 Preprocessed Mel-spectrogram Dataset](https://www.kaggle.com/daisukelab/fat2019_prep_mels1).\n",
    "\n",
    "Creating noisy set is commented out due to kernel memory restriction. You can fully run in your local environment. No GPU used."
   ]
  },
  {
   "cell_type": "code",
   "execution_count": 1,
   "metadata": {
    "_cell_guid": "b1076dfc-b9ad-4769-8c92-a6c4dae69d19",
    "_uuid": "8f2839f25d086af736a60e9eeb907d3b93b6e0e5"
   },
   "outputs": [
    {
     "name": "stdout",
     "output_type": "stream",
     "text": [
      "['train_noisy.csv', 'test', 'train_curated', 'train_noisy', 'sample_submission.csv', 'train_curated.csv']\n"
     ]
    }
   ],
   "source": [
    "import numpy as np # linear algebra\n",
    "import pandas as pd # data processing, CSV file I/O (e.g. pd.read_csv)\n",
    "from pathlib import Path\n",
    "import matplotlib.pyplot as plt\n",
    "from tqdm import tqdm_notebook\n",
    "import IPython\n",
    "import IPython.display\n",
    "import PIL\n",
    "import pickle\n",
    "\n",
    "import torch\n",
    "import torch.nn as nn\n",
    "import torch.nn.functional as F\n",
    "\n",
    "# Input data files are available in the \"../input/\" directory.\n",
    "# For example, running this (by clicking run or pressing Shift+Enter) will list the files in the input directory\n",
    "\n",
    "import os\n",
    "print(os.listdir(\"../input\"))\n",
    "\n",
    "# Any results you write to the current directory are saved as output."
   ]
  },
  {
   "cell_type": "code",
   "execution_count": 2,
   "metadata": {},
   "outputs": [],
   "source": [
    "DATA = Path('../input')\n",
    "PREPROCESSED = Path('work/fat2019_prep_mels1')\n",
    "WORK = Path('work')\n",
    "Path(PREPROCESSED).mkdir(exist_ok=True, parents=True)\n",
    "Path(WORK).mkdir(exist_ok=True, parents=True)\n",
    "\n",
    "CSV_TRN_CURATED = DATA/'train_curated.csv'\n",
    "CSV_TRN_NOISY = DATA/'train_noisy.csv'\n",
    "CSV_SUBMISSION = DATA/'sample_submission.csv'\n",
    "\n",
    "TRN_CURATED = DATA/'train_curated'\n",
    "TRN_NOISY = DATA/'train_noisy'\n",
    "TEST = DATA/'test'\n",
    "\n",
    "CSV_TRN_CURATED_TRIMMED = PREPROCESSED/'trn_curated_trimmed.csv'\n",
    "\n",
    "MELS_TRN_CURATED = PREPROCESSED/'mels_train_curated.pkl'\n",
    "MELS_TRN_NOISY = PREPROCESSED/'mels_train_noisy.pkl'\n",
    "MELS_TEST = PREPROCESSED/'mels_test.pkl'\n",
    "\n",
    "CSV_TRN_NOISY_BEST50S = PREPROCESSED/'trn_noisy_best50s.csv'\n",
    "MELS_TRN_NOISY_BEST50S = PREPROCESSED/'mels_trn_noisy_best50s.pkl'\n",
    "\n",
    "CSV_TRN_NOISY_POOR = PREPROCESSED/'trn_noisy_poor.csv'\n",
    "MELS_TRN_NOISY_POOR = PREPROCESSED/'mels_trn_noisy_poor.pkl'\n",
    "\n",
    "trn_curated_df = pd.read_csv(CSV_TRN_CURATED)\n",
    "trn_noisy_df = pd.read_csv(CSV_TRN_NOISY)\n",
    "test_df = pd.read_csv(CSV_SUBMISSION)"
   ]
  },
  {
   "cell_type": "code",
   "execution_count": 3,
   "metadata": {
    "_cell_guid": "79c7e3d0-c299-4dcb-8224-4455121ee9b0",
    "_uuid": "d629ff2d2480ee46fbb7e2d37f6b5fab8052498a"
   },
   "outputs": [],
   "source": [
    "import librosa\n",
    "import librosa.display\n",
    "import random\n",
    "\n",
    "from fastai import *\n",
    "from fastai.callbacks import *\n",
    "from fastai.vision import *\n",
    "from fastai.vision.data import *\n",
    "\n",
    "\n",
    "def read_audio(conf, pathname, trim_long_data):\n",
    "    y, sr = librosa.load(pathname, sr=conf.sampling_rate)\n",
    "    # trim silence\n",
    "    if 0 < len(y): # workaround: 0 length causes error\n",
    "        y, _ = librosa.effects.trim(y) # trim, top_db=default(60)\n",
    "    # make it unified length to conf.samples\n",
    "    if len(y) > conf.samples: # long enough\n",
    "        if trim_long_data:\n",
    "            y = y[0:0+conf.samples]\n",
    "    else: # pad blank\n",
    "        padding = conf.samples - len(y)    # add padding at both ends\n",
    "        offset = padding // 2\n",
    "        y = np.pad(y, (offset, conf.samples - len(y) - offset), conf.padmode)\n",
    "    return y\n",
    "\n",
    "\n",
    "def audio_to_melspectrogram(conf, audio):\n",
    "    spectrogram = librosa.feature.melspectrogram(audio, \n",
    "                                                 sr=conf.sampling_rate,\n",
    "                                                 n_mels=conf.n_mels,\n",
    "                                                 hop_length=conf.hop_length,\n",
    "                                                 n_fft=conf.n_fft,\n",
    "                                                 fmin=conf.fmin,\n",
    "                                                 fmax=conf.fmax)\n",
    "    spectrogram = librosa.power_to_db(spectrogram)\n",
    "    spectrogram = spectrogram.astype(np.float32)\n",
    "    return spectrogram\n",
    "\n",
    "\n",
    "def show_melspectrogram(conf, mels, title='Log-frequency power spectrogram'):\n",
    "    librosa.display.specshow(mels, x_axis='time', y_axis='mel', \n",
    "                             sr=conf.sampling_rate, hop_length=conf.hop_length,\n",
    "                            fmin=conf.fmin, fmax=conf.fmax)\n",
    "    plt.colorbar(format='%+2.0f dB')\n",
    "    plt.title(title)\n",
    "    plt.show()\n",
    "\n",
    "\n",
    "def read_as_melspectrogram(conf, pathname, trim_long_data, debug_display=False):\n",
    "    x = read_audio(conf, pathname, trim_long_data)\n",
    "    mels = audio_to_melspectrogram(conf, x)\n",
    "    if debug_display:\n",
    "        IPython.display.display(IPython.display.Audio(x, rate=conf.sampling_rate))\n",
    "        show_melspectrogram(conf, mels)\n",
    "    return mels\n",
    "\n",
    "\n",
    "class conf:\n",
    "    sampling_rate = 44100\n",
    "    duration = 2 # sec\n",
    "    hop_length = 347*duration # to make time steps 128\n",
    "    fmin = 20\n",
    "    fmax = sampling_rate // 2\n",
    "    n_mels = 128\n",
    "    n_fft = n_mels * 20\n",
    "    padmode = 'constant'\n",
    "    samples = sampling_rate * duration\n",
    "\n",
    "\n",
    "def get_default_conf():\n",
    "    return conf\n",
    "\n",
    "    \n",
    "def set_fastai_random_seed(seed=666):\n",
    "    # https://docs.fast.ai/dev/test.html#getting-reproducible-results\n",
    "\n",
    "    # python RNG\n",
    "    random.seed(seed)\n",
    "\n",
    "    # pytorch RNGs\n",
    "    import torch\n",
    "    torch.manual_seed(seed)\n",
    "    torch.backends.cudnn.deterministic = True\n",
    "    if torch.cuda.is_available(): torch.cuda.manual_seed_all(seed)\n",
    "\n",
    "    # numpy RNG\n",
    "    import numpy as np\n",
    "    np.random.seed(seed)"
   ]
  },
  {
   "cell_type": "code",
   "execution_count": 4,
   "metadata": {},
   "outputs": [],
   "source": [
    "def convert_wav_to_image(df, source, trim_long_data):\n",
    "    X = []\n",
    "    for i, row in tqdm_notebook(df.iterrows()):\n",
    "        x = read_as_melspectrogram(conf, source/str(row.fname), trim_long_data=trim_long_data)\n",
    "        X.append(x)\n",
    "    return X\n",
    "\n",
    "\n",
    "def save_as_pkl_binary(obj, filename):\n",
    "    \"\"\"Save object as pickle binary file.\n",
    "    Thanks to https://stackoverflow.com/questions/19201290/how-to-save-a-dictionary-to-a-file/32216025\n",
    "    \"\"\"\n",
    "    with open(filename, 'wb') as f:\n",
    "        pickle.dump(obj, f, pickle.HIGHEST_PROTOCOL)\n",
    "\n",
    "\n",
    "def load_pkl(filename):\n",
    "    \"\"\"Load pickle object from file.\"\"\"\n",
    "    with open(filename, 'rb') as f:\n",
    "        return pickle.load(f)"
   ]
  },
  {
   "cell_type": "code",
   "execution_count": 5,
   "metadata": {},
   "outputs": [],
   "source": [
    "df = trn_curated_df.copy()\n",
    "df = df.drop([534, 2068, 2304, 2316, 3893, 4798])\n",
    "df.to_csv(CSV_TRN_CURATED_TRIMMED, index=False)"
   ]
  },
  {
   "cell_type": "code",
   "execution_count": 6,
   "metadata": {},
   "outputs": [
    {
     "data": {
      "application/vnd.jupyter.widget-view+json": {
       "model_id": "6fe2216ca00a40edb3fd36115cccb7c8",
       "version_major": 2,
       "version_minor": 0
      },
      "text/plain": [
       "HBox(children=(IntProgress(value=1, bar_style='info', max=1), HTML(value='')))"
      ]
     },
     "metadata": {},
     "output_type": "display_data"
    },
    {
     "name": "stdout",
     "output_type": "stream",
     "text": [
      "\n",
      "Created work/fat2019_prep_mels1/mels_train_curated.pkl\n"
     ]
    },
    {
     "data": {
      "application/vnd.jupyter.widget-view+json": {
       "model_id": "6ed9dc90e98f4a9c910bd283813cb80e",
       "version_major": 2,
       "version_minor": 0
      },
      "text/plain": [
       "HBox(children=(IntProgress(value=1, bar_style='info', max=1), HTML(value='')))"
      ]
     },
     "metadata": {},
     "output_type": "display_data"
    },
    {
     "name": "stdout",
     "output_type": "stream",
     "text": [
      "\n",
      "Created work/fat2019_prep_mels1/mels_test.pkl\n"
     ]
    }
   ],
   "source": [
    "conf = get_default_conf()\n",
    "\n",
    "def convert_dataset(df, source_folder, filename, trim_long_data=False):\n",
    "    X = convert_wav_to_image(df, source=source_folder, trim_long_data=trim_long_data)\n",
    "    save_as_pkl_binary(X, filename)\n",
    "    print(f'Created {filename}')\n",
    "    return X\n",
    "\n",
    "\n",
    "convert_dataset(df, TRN_CURATED, MELS_TRN_CURATED);\n",
    "convert_dataset(test_df, TEST, MELS_TEST);"
   ]
  },
  {
   "cell_type": "code",
   "execution_count": 7,
   "metadata": {},
   "outputs": [],
   "source": [
    "poor_labels = np.array(['Accelerating_and_revving_and_vroom',\n",
    "               'Bathtub_(filling_or_washing)',\n",
    "               'Bus',\n",
    "               'Buzz',\n",
    "               'Cutlery_and_silverware',\n",
    "               'Chink_and_clink',\n",
    "               'Female_singing',\n",
    "               'Fill_(with_liquid)',\n",
    "               'Frying_(food)',\n",
    "               'Mechanical_fan',\n",
    "               'Motorcycle',\n",
    "               'Walk_and_footsteps',\n",
    "               'Water_tap_and_faucet',\n",
    "              ])"
   ]
  },
  {
   "cell_type": "code",
   "execution_count": 8,
   "metadata": {},
   "outputs": [
    {
     "data": {
      "application/vnd.jupyter.widget-view+json": {
       "model_id": "86e742b10e7b4b609ce6024564019d79",
       "version_major": 2,
       "version_minor": 0
      },
      "text/plain": [
       "HBox(children=(IntProgress(value=1, bar_style='info', max=1), HTML(value='')))"
      ]
     },
     "metadata": {},
     "output_type": "display_data"
    },
    {
     "name": "stdout",
     "output_type": "stream",
     "text": [
      "\n",
      "Created work/fat2019_prep_mels1/mels_trn_noisy_poor.pkl\n"
     ]
    }
   ],
   "source": [
    "df = trn_noisy_df[trn_noisy_df.labels.isin(poor_labels)]\n",
    "df.to_csv(CSV_TRN_NOISY_POOR, index=False)\n",
    "\n",
    "conf.samples = conf.samples * 2\n",
    "convert_dataset(df, TRN_NOISY, MELS_TRN_NOISY_POOR, trim_long_data=True);"
   ]
  },
  {
   "cell_type": "code",
   "execution_count": 9,
   "metadata": {},
   "outputs": [
    {
     "data": {
      "application/vnd.jupyter.widget-view+json": {
       "model_id": "b61b4070c4d34e1296cab00e7a85f27b",
       "version_major": 2,
       "version_minor": 0
      },
      "text/plain": [
       "HBox(children=(IntProgress(value=1, bar_style='info', max=1), HTML(value='')))"
      ]
     },
     "metadata": {},
     "output_type": "display_data"
    },
    {
     "name": "stdout",
     "output_type": "stream",
     "text": [
      "\n",
      "Created work/fat2019_prep_mels1/mels_trn_noisy_best50s.pkl\n"
     ]
    }
   ],
   "source": [
    "df = trn_noisy_df.copy()\n",
    "df['singled'] = ~df.labels.str.contains(',')\n",
    "\n",
    "singles_df = df[df.singled]\n",
    "labels = singles_df.labels.unique()\n",
    "idxes_best50s = np.array([random.choices(singles_df[(singles_df.labels == l)].index, k=50)\n",
    "                          for l in labels]).ravel()\n",
    "best50s_df = singles_df.loc[idxes_best50s]\n",
    "best50s_df.to_csv(CSV_TRN_NOISY_BEST50S, index=False)\n",
    "\n",
    "convert_dataset(best50s_df, TRN_NOISY, MELS_TRN_NOISY_BEST50S, trim_long_data=True);"
   ]
  }
 ],
 "metadata": {
  "kernelspec": {
   "display_name": "Python 3",
   "language": "python",
   "name": "python3"
  },
  "language_info": {
   "codemirror_mode": {
    "name": "ipython",
    "version": 3
   },
   "file_extension": ".py",
   "mimetype": "text/x-python",
   "name": "python",
   "nbconvert_exporter": "python",
   "pygments_lexer": "ipython3",
   "version": "3.6.4"
  }
 },
 "nbformat": 4,
 "nbformat_minor": 1
}
