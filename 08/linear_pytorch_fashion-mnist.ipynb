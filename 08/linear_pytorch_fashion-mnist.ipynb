{
 "cells": [
  {
   "cell_type": "code",
   "execution_count": 1,
   "metadata": {},
   "outputs": [],
   "source": [
    "import torch\n",
    "from torchvision import datasets, transforms\n",
    "import matplotlib.pyplot as plt"
   ]
  },
  {
   "cell_type": "code",
   "execution_count": 2,
   "metadata": {},
   "outputs": [],
   "source": [
    "device = torch.device('cuda')\n",
    "batch_size = 32"
   ]
  },
  {
   "cell_type": "code",
   "execution_count": 3,
   "metadata": {},
   "outputs": [],
   "source": [
    "train_loader = torch.utils.data.DataLoader(datasets.FashionMNIST('data-fashion', train=True, \n",
    "                                                          download=True, \n",
    "                                                          transform=transforms.ToTensor()), \n",
    "                                                       batch_size=batch_size, shuffle=True)"
   ]
  },
  {
   "cell_type": "code",
   "execution_count": 4,
   "metadata": {},
   "outputs": [],
   "source": [
    "test_loader = torch.utils.data.DataLoader(datasets.FashionMNIST('data-fashion', train=False, \n",
    "                                                          download=True, \n",
    "                                                          transform=transforms.ToTensor()), \n",
    "                                                       batch_size=batch_size, shuffle=True)"
   ]
  },
  {
   "cell_type": "code",
   "execution_count": 5,
   "metadata": {},
   "outputs": [],
   "source": [
    "import torch.nn as nn\n",
    "import torch.nn.functional as F"
   ]
  },
  {
   "cell_type": "code",
   "execution_count": 6,
   "metadata": {},
   "outputs": [],
   "source": [
    "class Model(nn.Module):\n",
    "    def __init__(self):\n",
    "        super(Model, self).__init__()\n",
    "        self.fc1 = nn.Linear(784, 256)\n",
    "        self.fc2 = nn.Linear(256, 256)\n",
    "        self.fc3 = nn.Linear(256, 256)\n",
    "        self.fc4 = nn.Linear(256, 256)\n",
    "        self.fc5 = nn.Linear(256, 256)\n",
    "        self.fc6 = nn.Linear(256, 256)\n",
    "        self.fc7 = nn.Linear(256, 256)\n",
    "        self.fc8 = nn.Linear(256, 10)\n",
    "        self.lrelu = nn.LeakyReLU(0.2, inplace=True)\n",
    "        \n",
    "    def forward(self, x):\n",
    "        x = x.view(-1, 784)\n",
    "        x = self.lrelu(self.fc1(x))\n",
    "        x = F.relu(self.fc2(x))\n",
    "        x = F.relu(self.fc3(x))\n",
    "        x = F.relu(self.fc4(x))\n",
    "        x = F.relu(self.fc5(x))\n",
    "        x = F.relu(self.fc6(x))\n",
    "        x = F.relu(self.fc7(x))\n",
    "        x = F.log_softmax(self.fc8(x), dim=1)\n",
    "        return x\n",
    "        "
   ]
  },
  {
   "cell_type": "code",
   "execution_count": 7,
   "metadata": {},
   "outputs": [],
   "source": [
    "def train(model, train_loader, optimizer):\n",
    "    model.train()\n",
    "    tot_loss = 0\n",
    "    for data, target in train_loader:\n",
    "        data, target = data.to(device), target.to(device)\n",
    "        optimizer.zero_grad()\n",
    "        output = model(data)\n",
    "        loss = F.nll_loss(output, target)\n",
    "        loss.backward()\n",
    "        optimizer.step()\n",
    "        tot_loss += loss\n",
    "    print('loss', batch_size * tot_loss.item() / len(train_loader.dataset))"
   ]
  },
  {
   "cell_type": "code",
   "execution_count": 8,
   "metadata": {},
   "outputs": [],
   "source": [
    "def test(model, test_loader):\n",
    "    model.eval()\n",
    "    correct = 0\n",
    "    total = 0\n",
    "    with torch.no_grad():\n",
    "        for data, target in test_loader:\n",
    "            data, target = data.to(device), target.to(device)\n",
    "            output = model(data)\n",
    "            _, predicted = torch.max(output.data, 1)\n",
    "            total += data.size(0)\n",
    "            correct += (predicted == target).sum().item()\n",
    "    print('accuracy', 100*correct / total )"
   ]
  },
  {
   "cell_type": "code",
   "execution_count": 9,
   "metadata": {},
   "outputs": [
    {
     "name": "stdout",
     "output_type": "stream",
     "text": [
      "tensor([4, 9, 5, 8, 9, 4, 5, 9, 1, 3, 9, 6, 3, 2, 3, 2, 8, 9, 3, 5, 6, 1, 9, 8,\n",
      "        4, 8, 2, 7, 0, 0, 8, 7])\n",
      "torch.Size([28, 28])\n"
     ]
    },
    {
     "data": {
      "text/plain": [
       "<matplotlib.image.AxesImage at 0x7fb0c8da6a58>"
      ]
     },
     "execution_count": 9,
     "metadata": {},
     "output_type": "execute_result"
    },
    {
     "data": {
      "image/png": "[encoded data removed]",
      "text/plain": [
       "<Figure size 432x288 with 1 Axes>"
      ]
     },
     "metadata": {},
     "output_type": "display_data"
    }
   ],
   "source": [
    "testData = next(iter(test_loader))\n",
    "print(testData[1])\n",
    "img = testData[0][0, 0, :,:]\n",
    "print(img.shape)\n",
    "plt.imshow(img)"
   ]
  },
  {
   "cell_type": "code",
   "execution_count": 10,
   "metadata": {},
   "outputs": [],
   "source": [
    "model = Model().to(device)\n",
    "\n",
    "learning_rate = 0.001\n",
    "optimizer = torch.optim.Adam(model.parameters(), lr=learning_rate)"
   ]
  },
  {
   "cell_type": "code",
   "execution_count": 11,
   "metadata": {},
   "outputs": [
    {
     "name": "stdout",
     "output_type": "stream",
     "text": [
      "loss 0.6671038411458333\n",
      "accuracy 81.86\n",
      "loss 0.4430498046875\n",
      "accuracy 85.35\n",
      "loss 0.3899265950520833\n",
      "accuracy 83.58\n",
      "loss 0.36490745442708333\n",
      "accuracy 85.75\n",
      "loss 0.33773922526041666\n",
      "accuracy 86.31\n",
      "loss 0.32527490234375\n",
      "accuracy 87.03\n",
      "loss 0.3094887369791667\n",
      "accuracy 86.84\n",
      "loss 0.29822958984375\n",
      "accuracy 85.89\n",
      "loss 0.29081070963541666\n",
      "accuracy 86.43\n",
      "loss 0.2797154296875\n",
      "accuracy 87.26\n",
      "loss 0.26972664388020834\n",
      "accuracy 87.55\n",
      "loss 0.26719251302083336\n",
      "accuracy 87.45\n",
      "loss 0.25803076171875\n",
      "accuracy 87.93\n",
      "loss 0.2517483561197917\n",
      "accuracy 88.28\n",
      "loss 0.24763125\n",
      "accuracy 88.63\n",
      "loss 0.24130309244791667\n",
      "accuracy 88.47\n",
      "loss 0.23248548177083334\n",
      "accuracy 87.66\n",
      "loss 0.22990182291666666\n",
      "accuracy 88.57\n",
      "loss 0.22911609700520832\n",
      "accuracy 88.44\n",
      "loss 0.223005078125\n",
      "accuracy 88.17\n",
      "loss 0.218565478515625\n",
      "accuracy 88.7\n",
      "loss 0.22131940104166667\n",
      "accuracy 88.47\n",
      "loss 0.21546448567708334\n",
      "accuracy 88.51\n",
      "loss 0.2116708984375\n",
      "accuracy 88.7\n",
      "loss 0.19872532552083333\n",
      "accuracy 88.35\n",
      "loss 0.20370777994791667\n",
      "accuracy 88.61\n",
      "loss 0.19900553385416667\n",
      "accuracy 88.56\n",
      "loss 0.203933935546875\n",
      "accuracy 88.21\n",
      "loss 0.19374913736979166\n",
      "accuracy 88.46\n",
      "loss 0.18894656575520832\n",
      "accuracy 89.06\n"
     ]
    }
   ],
   "source": [
    "for epoch in range(30):\n",
    "    train(model, train_loader, optimizer)\n",
    "    test(model, test_loader)"
   ]
  },
  {
   "cell_type": "code",
   "execution_count": null,
   "metadata": {},
   "outputs": [],
   "source": []
  },
  {
   "cell_type": "code",
   "execution_count": null,
   "metadata": {},
   "outputs": [],
   "source": []
  }
 ],
 "metadata": {
  "kernelspec": {
   "display_name": "Python 3",
   "language": "python",
   "name": "python3"
  },
  "language_info": {
   "codemirror_mode": {
    "name": "ipython",
    "version": 3
   },
   "file_extension": ".py",
   "mimetype": "text/x-python",
   "name": "python",
   "nbconvert_exporter": "python",
   "pygments_lexer": "ipython3",
   "version": "3.6.5"
  }
 },
 "nbformat": 4,
 "nbformat_minor": 2
}
