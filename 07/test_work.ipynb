{
 "cells": [
  {
   "cell_type": "code",
   "execution_count": 1,
   "metadata": {},
   "outputs": [],
   "source": [
    "import torch"
   ]
  },
  {
   "cell_type": "code",
   "execution_count": 18,
   "metadata": {},
   "outputs": [],
   "source": [
    "size = torch.tensor([4.,5.,6.,7.,8.])\n",
    "price = torch.tensor([3.4, 5.5, 7.4, 9.1, 10.6])\n",
    "\n",
    "size_n=(size - size.mean()) / size.std()\n",
    "price_n = (price - price.mean()) / price.std()"
   ]
  },
  {
   "cell_type": "code",
   "execution_count": 57,
   "metadata": {},
   "outputs": [],
   "source": [
    "def compute(vector, vector2):   \n",
    "    k = torch.randn(1, requires_grad=True)\n",
    "    c = torch.randn(1, requires_grad=True)\n",
    "    b = torch.randn(1, requires_grad=True)\n",
    "\n",
    "    optimizer = torch.optim.SGD([k,c,b], lr=0.01)\n",
    "\n",
    "    for _ in range(10001):\n",
    "        y_ = k*vector**2 + c*vector + b\n",
    "        loss_vector = (y_ - vector2)**2\n",
    "        loss = loss_vector.mean()\n",
    "        optimizer.zero_grad() # clean all grad\n",
    "        loss.backward() # ~backprob~ step\n",
    "        optimizer.step()\n",
    "\n",
    "        if _ % 5000 == 0:\n",
    "            print('step = ', _)\n",
    "            print('res = ', y_)\n",
    "            print('step_loss', loss)\n",
    "            print('step_grad = ', k.grad)\n",
    "            print('step_k, c, b = ', k , c, b)\n",
    "            print('____________')\n",
    "    return (k, c, b)"
   ]
  },
  {
   "cell_type": "code",
   "execution_count": 58,
   "metadata": {},
   "outputs": [
    {
     "name": "stdout",
     "output_type": "stream",
     "text": [
      "step =  0\n",
      "res =  tensor([ -9.8047, -13.5262, -17.8808, -22.8684, -28.4892], grad_fn=<ThAddBackward>)\n",
      "step_loss tensor(745.0839, grad_fn=<MeanBackward1>)\n",
      "step_grad =  tensor([-2266.0784])\n",
      "step_k, c, b =  tensor([22.3442], requires_grad=True) tensor([2.4718], requires_grad=True) tensor([-0.7350], requires_grad=True)\n",
      "____________\n",
      "step =  5000\n",
      "res =  tensor([nan, nan, nan, nan, nan], grad_fn=<ThAddBackward>)\n",
      "step_loss tensor(nan, grad_fn=<MeanBackward1>)\n",
      "step_grad =  tensor([nan])\n",
      "step_k, c, b =  tensor([nan], requires_grad=True) tensor([nan], requires_grad=True) tensor([nan], requires_grad=True)\n",
      "____________\n",
      "step =  10000\n",
      "res =  tensor([nan, nan, nan, nan, nan], grad_fn=<ThAddBackward>)\n",
      "step_loss tensor(nan, grad_fn=<MeanBackward1>)\n",
      "step_grad =  tensor([nan])\n",
      "step_k, c, b =  tensor([nan], requires_grad=True) tensor([nan], requires_grad=True) tensor([nan], requires_grad=True)\n",
      "____________\n"
     ]
    },
    {
     "data": {
      "text/plain": [
       "(tensor([nan], requires_grad=True),\n",
       " tensor([nan], requires_grad=True),\n",
       " tensor([nan], requires_grad=True))"
      ]
     },
     "execution_count": 58,
     "metadata": {},
     "output_type": "execute_result"
    }
   ],
   "source": [
    "compute(size, price)"
   ]
  },
  {
   "cell_type": "code",
   "execution_count": 59,
   "metadata": {},
   "outputs": [
    {
     "name": "stdout",
     "output_type": "stream",
     "text": [
      "step =  0\n",
      "res =  tensor([ 0.9292, -0.1093, -0.8010, -1.1460, -1.1442], grad_fn=<ThAddBackward>)\n",
      "step_loss tensor(2.9704, grad_fn=<MeanBackward1>)\n",
      "step_grad =  tensor([-0.2599])\n",
      "step_k, c, b =  tensor([0.4360], requires_grad=True) tensor([-0.7905], requires_grad=True) tensor([-0.7919], requires_grad=True)\n",
      "____________\n",
      "step =  5000\n",
      "res =  tensor([-1.3323, -0.5960,  0.0701,  0.6662,  1.1921], grad_fn=<ThAddBackward>)\n",
      "step_loss tensor(2.7151e-12, grad_fn=<MeanBackward1>)\n",
      "step_grad =  tensor([2.4796e-07])\n",
      "step_k, c, b =  tensor([-0.0877], requires_grad=True) tensor([0.9978], requires_grad=True) tensor([0.0701], requires_grad=True)\n",
      "____________\n",
      "step =  10000\n",
      "res =  tensor([-1.3323, -0.5960,  0.0701,  0.6662,  1.1921], grad_fn=<ThAddBackward>)\n",
      "step_loss tensor(2.7151e-12, grad_fn=<MeanBackward1>)\n",
      "step_grad =  tensor([2.4796e-07])\n",
      "step_k, c, b =  tensor([-0.0877], requires_grad=True) tensor([0.9978], requires_grad=True) tensor([0.0701], requires_grad=True)\n",
      "____________\n",
      "price= tensor([ 3.4000,  5.5000,  7.4000,  9.1000, 10.6000])\n",
      "price_poly= tensor([ 3.4000,  5.5000,  7.4000,  9.1000, 10.6000], grad_fn=<ThAddBackward>)\n"
     ]
    }
   ],
   "source": [
    "k, c, b = compute(size_n, price_n)\n",
    "print('price =', price)\n",
    "print('price_poly =', (k*size_n**2 + c*size_n + b) * price.std() + price.mean())"
   ]
  },
  {
   "cell_type": "code",
   "execution_count": 60,
   "metadata": {},
   "outputs": [
    {
     "data": {
      "image/png": "[encoded data removed]",
      "text/plain": [
       "<Figure size 432x288 with 1 Axes>"
      ]
     },
     "metadata": {},
     "output_type": "display_data"
    }
   ],
   "source": [
    "import numpy as np\n",
    "import matplotlib.pyplot as plt\n",
    "plt.plot(np.array(size_n), np.array(price_n), 'ro')\n",
    "plt.axis([-3, 3, -3, 3])\n",
    "t = np.arange(-3, 3, 0.01)\n",
    "plt.plot(t, float(k)*t**2 + float(c)*t + float(b))\n",
    "plt.show()"
   ]
  },
  {
   "cell_type": "code",
   "execution_count": 65,
   "metadata": {},
   "outputs": [
    {
     "data": {
      "image/png": "[encoded data removed]",
      "text/plain": [
       "<Figure size 432x288 with 1 Axes>"
      ]
     },
     "metadata": {},
     "output_type": "display_data"
    }
   ],
   "source": [
    "std_s = float(size.std())\n",
    "mean_s = float(size.mean())\n",
    "\n",
    "std_p = float(price.std())\n",
    "mean_p = float(price.mean())\n",
    "\n",
    "plt.plot(np.array(size), np.array(price), 'ro')\n",
    "plt.axis([-1, 10, -1, 10])\n",
    "t = np.arange(-1, 10, 0.001)\n",
    "plt.plot(t, (float(k)*((t - mean_s)/std_s)**2 + float(c)*(t - mean_s)/std_s + float(b)) * std_p + mean_p)\n",
    "plt.show()"
   ]
  },
  {
   "cell_type": "code",
   "execution_count": null,
   "metadata": {},
   "outputs": [],
   "source": []
  }
 ],
 "metadata": {
  "kernelspec": {
   "display_name": "Python 3",
   "language": "python",
   "name": "python3"
  },
  "language_info": {
   "codemirror_mode": {
    "name": "ipython",
    "version": 3
   },
   "file_extension": ".py",
   "mimetype": "text/x-python",
   "name": "python",
   "nbconvert_exporter": "python",
   "pygments_lexer": "ipython3",
   "version": "3.6.5"
  }
 },
 "nbformat": 4,
 "nbformat_minor": 2
}
