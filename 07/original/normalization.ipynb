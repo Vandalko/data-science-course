{
 "cells": [
  {
   "cell_type": "code",
   "execution_count": 45,
   "metadata": {},
   "outputs": [],
   "source": [
    "import torch\n",
    "import numpy as np"
   ]
  },
  {
   "cell_type": "markdown",
   "metadata": {},
   "source": [
    "## Normalization Example for Linear Regression"
   ]
  },
  {
   "cell_type": "code",
   "execution_count": 46,
   "metadata": {},
   "outputs": [],
   "source": [
    "x = torch.tensor([ 1.,  2.,  3.,  4.,  5.]) #rooms\n",
    "y = torch.tensor([11., 21., 31., 41., 51.]) #price"
   ]
  },
  {
   "cell_type": "code",
   "execution_count": 47,
   "metadata": {},
   "outputs": [
    {
     "data": {
      "text/plain": [
       "tensor(3.)"
      ]
     },
     "execution_count": 47,
     "metadata": {},
     "output_type": "execute_result"
    }
   ],
   "source": [
    "x_mean = x.mean()\n",
    "x_mean"
   ]
  },
  {
   "cell_type": "code",
   "execution_count": 48,
   "metadata": {},
   "outputs": [
    {
     "data": {
      "text/plain": [
       "tensor(1.5811)"
      ]
     },
     "execution_count": 48,
     "metadata": {},
     "output_type": "execute_result"
    }
   ],
   "source": [
    "x_std = x.std()\n",
    "x_std"
   ]
  },
  {
   "cell_type": "code",
   "execution_count": 49,
   "metadata": {},
   "outputs": [],
   "source": [
    "x_n = (x - x_mean)/x_std"
   ]
  },
  {
   "cell_type": "code",
   "execution_count": null,
   "metadata": {},
   "outputs": [],
   "source": []
  },
  {
   "cell_type": "code",
   "execution_count": 50,
   "metadata": {},
   "outputs": [],
   "source": [
    "y_mean = y.mean()\n",
    "y_std = y.std()\n"
   ]
  },
  {
   "cell_type": "code",
   "execution_count": 51,
   "metadata": {},
   "outputs": [],
   "source": [
    "x_n = (x - x_mean)/ x_std\n",
    "y_n = (y - y_mean)/ y_std"
   ]
  },
  {
   "cell_type": "code",
   "execution_count": 52,
   "metadata": {},
   "outputs": [
    {
     "name": "stdout",
     "output_type": "stream",
     "text": [
      "tensor(1.00000e-03 *\n",
      "       [10.0000]) <class 'torch.Tensor'> True\n",
      "tensor(1.00000e-03 *\n",
      "       [10.0000]) <class 'torch.Tensor'> True\n"
     ]
    }
   ],
   "source": [
    "k = torch.tensor([.01], requires_grad=True)\n",
    "b = torch.tensor([.01], requires_grad=True)\n",
    "\n",
    "print(k, type(k), k.requires_grad)\n",
    "print(b, type(b), b.requires_grad)"
   ]
  },
  {
   "cell_type": "code",
   "execution_count": 53,
   "metadata": {},
   "outputs": [],
   "source": [
    "y_n_ = k * x_n + b"
   ]
  },
  {
   "cell_type": "code",
   "execution_count": 54,
   "metadata": {},
   "outputs": [
    {
     "data": {
      "text/plain": [
       "tensor(1.00000e-02 *\n",
       "       [-0.2649,  0.3675,  1.0000,  1.6325,  2.2649])"
      ]
     },
     "execution_count": 54,
     "metadata": {},
     "output_type": "execute_result"
    }
   ],
   "source": [
    "y_n_"
   ]
  },
  {
   "cell_type": "code",
   "execution_count": 55,
   "metadata": {},
   "outputs": [
    {
     "data": {
      "text/plain": [
       "tensor([-1.2649, -0.6325,  0.0000,  0.6325,  1.2649])"
      ]
     },
     "execution_count": 55,
     "metadata": {},
     "output_type": "execute_result"
    }
   ],
   "source": [
    "y_n"
   ]
  },
  {
   "cell_type": "code",
   "execution_count": 56,
   "metadata": {},
   "outputs": [
    {
     "name": "stdout",
     "output_type": "stream",
     "text": [
      "SGD (\n",
      "Parameter Group 0\n",
      "    dampening: 0\n",
      "    lr: 0.01\n",
      "    momentum: 0\n",
      "    nesterov: False\n",
      "    weight_decay: 0\n",
      ") <class 'torch.optim.sgd.SGD'>\n"
     ]
    }
   ],
   "source": [
    "learning_rate = 0.01\n",
    "optimizer = torch.optim.SGD([k, b], lr=learning_rate)\n",
    "\n",
    "print(optimizer, type(optimizer))"
   ]
  },
  {
   "cell_type": "code",
   "execution_count": 57,
   "metadata": {},
   "outputs": [
    {
     "name": "stdout",
     "output_type": "stream",
     "text": [
      "step =  0\n",
      "step_loss =  tensor([ 1.5933e+00,  4.0466e-01,  1.0000e-04,  3.7962e-01,  1.5432e+00]) tensor(0.7842)\n",
      "step_k_grad =  tensor([-1.5840])\n",
      "step_b_grad =  tensor(1.00000e-02 *\n",
      "       [ 2.0000])\n",
      "step_y_n_ =  tensor(1.00000e-02 *\n",
      "       [-0.2649,  0.3675,  1.0000,  1.6325,  2.2649])\n",
      "step_y_ =  tensor([ 30.9581,  31.0581,  31.1581,  31.2581,  31.3581])\n",
      "step_k =  tensor(1.00000e-02 *\n",
      "       [ 2.5840])\n",
      "step_b =  tensor(1.00000e-03 *\n",
      "       [ 9.8000])\n",
      "____________\n",
      "step =  1000\n",
      "step_loss =  tensor([ 5.1301e-12,  1.2825e-12,  4.7142e-17,  1.2825e-12,  5.1301e-12]) tensor(1.00000e-12 *\n",
      "       2.5651)\n",
      "step_k_grad =  tensor(1.00000e-06 *\n",
      "       [-2.8650])\n",
      "step_b_grad =  tensor(1.00000e-09 *\n",
      "       [ 2.7464])\n",
      "step_y_n_ =  tensor([-1.2649e+00, -6.3245e-01,  6.8660e-09,  6.3245e-01,  1.2649e+00])\n",
      "step_y_ =  tensor([ 11.0000,  21.0000,  31.0000,  41.0000,  51.0000])\n",
      "step_k =  tensor([ 1.0000])\n",
      "step_b =  tensor(1.00000e-09 *\n",
      "       [ 6.8386])\n",
      "____________\n",
      "step =  2000\n",
      "step_loss =  tensor([ 5.1301e-12,  1.2825e-12,  1.5563e-20,  1.2825e-12,  5.1301e-12]) tensor(1.00000e-12 *\n",
      "       2.5651)\n",
      "step_k_grad =  tensor(1.00000e-06 *\n",
      "       [-2.8650])\n",
      "step_b_grad =  tensor(1.00000e-11 *\n",
      "       [ 4.9900])\n",
      "step_y_n_ =  tensor([-1.2649e+00, -6.3245e-01,  1.2475e-10,  6.3245e-01,  1.2649e+00])\n",
      "step_y_ =  tensor([ 11.0000,  21.0000,  31.0000,  41.0000,  51.0000])\n",
      "step_k =  tensor([ 1.0000])\n",
      "step_b =  tensor(1.00000e-10 *\n",
      "       [ 1.2425])\n",
      "____________\n"
     ]
    }
   ],
   "source": [
    "# Learning Loop \n",
    "for _ in range(2001):\n",
    "\n",
    "    y_n_ = k * x_n + b\n",
    "\n",
    "    loss_vector = (y_n - y_n_)**2\n",
    "    loss = loss_vector.mean()\n",
    "\n",
    "    optimizer.zero_grad() # clean all grad    \n",
    "    loss.backward() # ~backprob~ step\n",
    "    \n",
    "    optimizer.step()\n",
    "    \n",
    "    if _ % 1000 == 0:\n",
    "        print('step = ', _)\n",
    "        print('step_loss = ', loss_vector, loss)\n",
    "        print('step_k_grad = ', k.grad)\n",
    "        print('step_b_grad = ', b.grad)\n",
    "        print('step_y_n_ = ', y_n_)\n",
    "        print('step_y_ = ', y_n_ * y_std + y_mean)\n",
    "        print('step_k = ', k)\n",
    "        print('step_b = ', b)\n",
    "        print('____________')"
   ]
  },
  {
   "cell_type": "code",
   "execution_count": 67,
   "metadata": {},
   "outputs": [],
   "source": [
    "import matplotlib.pyplot as plt\n",
    "import numpy as np\n",
    "\n",
    "\"\"\" this function just plotting\n",
    "    your data and linear model \"\"\"\n",
    "def plot_result(X, Y, lin_model=None, extra_point=None):\n",
    "    plt.xlabel('rooms, number')\n",
    "    plt.ylabel('price, $1000')\n",
    "    plt.plot(X,Y, 'bo') # 'bo' - means 'b'-blue 'o'-dots, you can use 'ro' or 'gx' ('x' for cross)\n",
    "    if lin_model:\n",
    "        b = lin_model[0]\n",
    "        w = lin_model[1]\n",
    "        t = np.arange(X.min(), X.max(), 0.01)\n",
    "        plt.plot(t, w*t+b , 'k')\n",
    "    if extra_point:\n",
    "        plt.plot(extra_point[0], extra_point[1], 'ro')\n",
    "    plt.show()"
   ]
  },
  {
   "cell_type": "code",
   "execution_count": 68,
   "metadata": {},
   "outputs": [
    {
     "data": {
      "image/png": "[encoded data removed]",
      "text/plain": [
       "<Figure size 432x288 with 1 Axes>"
      ]
     },
     "metadata": {
      "needs_background": "light"
     },
     "output_type": "display_data"
    }
   ],
   "source": [
    "plot_result(np.array(x), np.array(y), [1,10])"
   ]
  },
  {
   "cell_type": "code",
   "execution_count": 69,
   "metadata": {},
   "outputs": [
    {
     "data": {
      "image/png": "[encoded data removed]",
      "text/plain": [
       "<Figure size 432x288 with 1 Axes>"
      ]
     },
     "metadata": {
      "needs_background": "light"
     },
     "output_type": "display_data"
    }
   ],
   "source": [
    "plot_result(np.array(x_n), np.array(y_n), [0,1])"
   ]
  },
  {
   "cell_type": "code",
   "execution_count": 70,
   "metadata": {},
   "outputs": [],
   "source": [
    "x_test = 3.5"
   ]
  },
  {
   "cell_type": "code",
   "execution_count": 71,
   "metadata": {},
   "outputs": [
    {
     "data": {
      "text/plain": [
       "tensor(0.3162)"
      ]
     },
     "execution_count": 71,
     "metadata": {},
     "output_type": "execute_result"
    }
   ],
   "source": [
    "x_test_n = (x_test - x_mean) / x_std\n",
    "x_test_n"
   ]
  },
  {
   "cell_type": "code",
   "execution_count": 72,
   "metadata": {},
   "outputs": [],
   "source": [
    "y_n_ = k*x_test_n + b"
   ]
  },
  {
   "cell_type": "code",
   "execution_count": 73,
   "metadata": {},
   "outputs": [
    {
     "data": {
      "text/plain": [
       "tensor([ 0.3162])"
      ]
     },
     "execution_count": 73,
     "metadata": {},
     "output_type": "execute_result"
    }
   ],
   "source": [
    "y_n_"
   ]
  },
  {
   "cell_type": "code",
   "execution_count": 74,
   "metadata": {},
   "outputs": [],
   "source": [
    "y_ = y_n_*y_std + y_mean"
   ]
  },
  {
   "cell_type": "code",
   "execution_count": 75,
   "metadata": {},
   "outputs": [
    {
     "data": {
      "text/plain": [
       "tensor([ 36.0000])"
      ]
     },
     "execution_count": 75,
     "metadata": {},
     "output_type": "execute_result"
    }
   ],
   "source": [
    "y_"
   ]
  },
  {
   "cell_type": "code",
   "execution_count": null,
   "metadata": {},
   "outputs": [],
   "source": []
  },
  {
   "cell_type": "code",
   "execution_count": null,
   "metadata": {},
   "outputs": [],
   "source": []
  }
 ],
 "metadata": {
  "kernelspec": {
   "display_name": "Python 3",
   "language": "python",
   "name": "python3"
  },
  "language_info": {
   "codemirror_mode": {
    "name": "ipython",
    "version": 3
   },
   "file_extension": ".py",
   "mimetype": "text/x-python",
   "name": "python",
   "nbconvert_exporter": "python",
   "pygments_lexer": "ipython3",
   "version": "3.6.5"
  }
 },
 "nbformat": 4,
 "nbformat_minor": 2
}
