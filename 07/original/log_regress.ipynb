{
 "cells": [
  {
   "cell_type": "markdown",
   "metadata": {},
   "source": [
    "# Logistic Regression"
   ]
  },
  {
   "cell_type": "code",
   "execution_count": 215,
   "metadata": {},
   "outputs": [],
   "source": [
    "import torch"
   ]
  },
  {
   "cell_type": "code",
   "execution_count": 216,
   "metadata": {},
   "outputs": [
    {
     "name": "stdout",
     "output_type": "stream",
     "text": [
      "tensor([-1.5254, -1.2481, -0.9707, -0.6934, -0.4160, -0.1387,  0.1387,\n",
      "         0.4160,  0.6934,  0.9707,  1.2481,  1.5254]) <class 'torch.Tensor'> False\n",
      "tensor([ 0.,  0.,  0.,  0.,  0.,  1.,  1.,  1.,  1.,  1.,  1.,  1.]) <class 'torch.Tensor'> False\n"
     ]
    }
   ],
   "source": [
    "x = torch.tensor([ 28., 29., 30., 31., 32.,  33.,  34., 35., 36., 37., 38., 39.])\n",
    "y = torch.tensor([ 0.,  0. , 0.,  0.,  0.,   1.,   1.,  1.,  1.,  1.,  1.,  1. ])\n",
    "\n",
    "x_mean = x.mean()\n",
    "x_std = x.std()\n",
    "x = (x - x_mean)/x_std # normalization for feature scaling and faster learning\n",
    "\n",
    "print(x, type(x), x.requires_grad)\n",
    "print(y, type(y), y.requires_grad)"
   ]
  },
  {
   "cell_type": "code",
   "execution_count": 217,
   "metadata": {},
   "outputs": [],
   "source": [
    "import matplotlib.pyplot as plt\n",
    "import numpy as np\n",
    "\n",
    "\"\"\" this function just plotting\n",
    "    your data and linear model \"\"\"\n",
    "def plot_result(X, Y, lin_model=None, extra_point=None):\n",
    "    plt.xlabel('size, mm2')\n",
    "    plt.ylabel('vbs, 0 or 1')\n",
    "    plt.plot([v[0] for v in zip(X,Y) if v[1] == 0.], [v[1] for v in zip(X,Y) if v[1] == 0.], 'bo',\n",
    "             [v[0] for v in zip(X,Y) if v[1] == 1.], [v[1] for v in zip(X,Y) if v[1] == 1.], 'ro',) # 'bo' - means 'b'-blue 'o'-dots, you can use 'ro' or 'gx' ('x' for cross)\n",
    "    if lin_model:\n",
    "        b = lin_model[0]\n",
    "        w = lin_model[1]\n",
    "        t = np.arange(X.min(), X.max(), 0.01)\n",
    "        plt.plot(t, 1/(1 + np.exp(- w*t+b)) , 'k')\n",
    "    if extra_point:\n",
    "        plt.plot(extra_point[0], extra_point[1], 'ro')\n",
    "    plt.show()"
   ]
  },
  {
   "cell_type": "code",
   "execution_count": 218,
   "metadata": {},
   "outputs": [
    {
     "data": {
      "image/png": "[encoded data removed]",
      "text/plain": [
       "<Figure size 432x288 with 1 Axes>"
      ]
     },
     "metadata": {
      "needs_background": "light"
     },
     "output_type": "display_data"
    }
   ],
   "source": [
    "plot_result(np.array(x), np.array(y))"
   ]
  },
  {
   "cell_type": "code",
   "execution_count": 219,
   "metadata": {},
   "outputs": [
    {
     "name": "stdout",
     "output_type": "stream",
     "text": [
      "tensor([ 1.0754]) <class 'torch.Tensor'> True\n",
      "tensor([ 0.8712]) <class 'torch.Tensor'> True\n"
     ]
    }
   ],
   "source": [
    "#k = torch.tensor([.01], requires_grad=True)\n",
    "#b = torch.tensor([.01], requires_grad=True)\n",
    "\n",
    "k =  torch.randn(1 , requires_grad=True)\n",
    "b =  torch.randn(1 , requires_grad=True)\n",
    "\n",
    "print(k, type(k), k.requires_grad)\n",
    "print(b, type(b), b.requires_grad)"
   ]
  },
  {
   "cell_type": "code",
   "execution_count": 220,
   "metadata": {},
   "outputs": [
    {
     "name": "stdout",
     "output_type": "stream",
     "text": [
      "tensor([ 0.3166,  0.3844,  0.4569,  0.5313,  0.6044,  0.6731,  0.7350,\n",
      "         0.7889,  0.8344,  0.8716,  0.9014,  0.9250]) <class 'torch.Tensor'> True\n"
     ]
    }
   ],
   "source": [
    "y_ = 1 / (1 + torch.exp(- (k*x + b)))\n",
    "\n",
    "print(y_, type(y_), y_.requires_grad)"
   ]
  },
  {
   "cell_type": "code",
   "execution_count": 221,
   "metadata": {},
   "outputs": [
    {
     "data": {
      "image/png": "[encoded data removed]",
      "text/plain": [
       "<Figure size 432x288 with 1 Axes>"
      ]
     },
     "metadata": {
      "needs_background": "light"
     },
     "output_type": "display_data"
    }
   ],
   "source": [
    "plot_result(np.array(x), np.array(y), [float(b), float(k)])"
   ]
  },
  {
   "cell_type": "code",
   "execution_count": 222,
   "metadata": {},
   "outputs": [],
   "source": [
    "#loss_vector = (y - y_)**2 # or\n",
    "loss_vector = - (y * torch.log(y_) + (1-y) * torch.log(1-y_)) #or @much better@\n"
   ]
  },
  {
   "cell_type": "code",
   "execution_count": 223,
   "metadata": {},
   "outputs": [
    {
     "data": {
      "text/plain": [
       "tensor(0.3836)"
      ]
     },
     "execution_count": 223,
     "metadata": {},
     "output_type": "execute_result"
    }
   ],
   "source": [
    "loss = loss_vector.mean()\n",
    "loss"
   ]
  },
  {
   "cell_type": "code",
   "execution_count": 224,
   "metadata": {},
   "outputs": [
    {
     "data": {
      "text/plain": [
       "tensor(0.3836)"
      ]
     },
     "execution_count": 224,
     "metadata": {},
     "output_type": "execute_result"
    }
   ],
   "source": [
    "BCE = torch.nn.BCELoss() #or @much better@ (more stable: less NaNs and faster in c++)\n",
    "loss = BCE(y_, y)\n",
    "\n",
    "loss"
   ]
  },
  {
   "cell_type": "code",
   "execution_count": 225,
   "metadata": {},
   "outputs": [],
   "source": [
    "learning_rate = 0.1\n",
    "optimizer = torch.optim.SGD([k, b], lr=learning_rate)"
   ]
  },
  {
   "cell_type": "code",
   "execution_count": 226,
   "metadata": {
    "scrolled": true
   },
   "outputs": [
    {
     "name": "stdout",
     "output_type": "stream",
     "text": [
      "step =  0\n",
      "step_loss =  tensor([ 0.3807,  0.4851,  0.6105,  0.7579,  0.9273,  0.3959,  0.3078,\n",
      "         0.2371,  0.1811,  0.1374,  0.1038,  0.0780]) tensor(0.5288)\n",
      "step_k_grad =  tensor([-0.2152])\n",
      "step_b_grad =  tensor([ 0.2519])\n",
      "step_y_ =  tensor([ 0.0750,  0.0986,  0.1284,  0.1656,  0.2111,  0.2650,  0.3269,\n",
      "         0.3956,  0.4687,  0.5431,  0.6156,  0.6834])\n",
      "step_k =  tensor([ 1.0969])\n",
      "step_b =  tensor([ 0.8460])\n",
      "____________\n",
      "step =  10000\n",
      "step_loss =  tensor([ 0.3807,  0.4851,  0.6105,  0.7579,  0.9273,  0.3959,  0.3078,\n",
      "         0.2371,  0.1811,  0.1374,  0.1038,  0.0780]) tensor(1.00000e-02 *\n",
      "       3.1838)\n",
      "step_k_grad =  tensor(1.00000e-03 *\n",
      "       [-4.1306])\n",
      "step_b_grad =  tensor(1.00000e-03 *\n",
      "       [ 1.1551])\n",
      "step_y_ =  tensor([ 4.9407e-07,  1.2320e-05,  3.0714e-04,  7.6030e-03,  1.6040e-01,\n",
      "         8.2651e-01,  9.9165e-01,  9.9966e-01,  9.9999e-01,  1.0000e+00,\n",
      "         1.0000e+00,  1.0000e+00])\n",
      "step_k =  tensor([ 11.5971])\n",
      "step_b =  tensor([-3.1694])\n",
      "____________\n",
      "step =  20000\n",
      "step_loss =  tensor([ 0.3807,  0.4851,  0.6105,  0.7579,  0.9273,  0.3959,  0.3078,\n",
      "         0.2371,  0.1811,  0.1374,  0.1038,  0.0780]) tensor(1.00000e-02 *\n",
      "       2.0471)\n",
      "step_k_grad =  tensor(1.00000e-03 *\n",
      "       [-2.5781])\n",
      "step_b_grad =  tensor(1.00000e-04 *\n",
      "       [ 7.1789])\n",
      "step_y_ =  tensor([ 8.9507e-09,  5.4487e-07,  3.3167e-05,  2.0150e-03,  1.0946e-01,\n",
      "         8.8211e-01,  9.9781e-01,  9.9996e-01,  1.0000e+00,  1.0000e+00,\n",
      "         1.0000e+00,  1.0000e+00])\n",
      "step_k =  tensor([ 14.8148])\n",
      "step_b =  tensor([-4.0670])\n",
      "____________\n",
      "step =  30000\n",
      "step_loss =  tensor([ 0.3807,  0.4851,  0.6105,  0.7579,  0.9273,  0.3959,  0.3078,\n",
      "         0.2371,  0.1811,  0.1374,  0.1038,  0.0780]) tensor(1.00000e-02 *\n",
      "       1.5183)\n",
      "step_k_grad =  tensor(1.00000e-03 *\n",
      "       [-1.9065])\n",
      "step_b_grad =  tensor(1.00000e-04 *\n",
      "       [ 5.3025])\n",
      "step_y_ =  tensor([ 5.7073e-10,  6.4077e-08,  7.1940e-06,  8.0704e-04,  8.3142e-02,\n",
      "         9.1056e-01,  9.9913e-01,  9.9999e-01,  1.0000e+00,  1.0000e+00,\n",
      "         1.0000e+00,  1.0000e+00])\n",
      "step_k =  tensor([ 17.0217])\n",
      "step_b =  tensor([-4.6810])\n",
      "____________\n",
      "step =  40000\n",
      "step_loss =  tensor([ 0.3807,  0.4851,  0.6105,  0.7579,  0.9273,  0.3959,  0.3078,\n",
      "         0.2371,  0.1811,  0.1374,  0.1038,  0.0780]) tensor(1.00000e-02 *\n",
      "       1.2067)\n",
      "step_k_grad =  tensor(1.00000e-03 *\n",
      "       [-1.5173])\n",
      "step_b_grad =  tensor(1.00000e-04 *\n",
      "       [ 4.2179])\n",
      "step_y_ =  tensor([ 6.8722e-11,  1.2353e-08,  2.2204e-06,  3.9895e-04,  6.6938e-02,\n",
      "         9.2803e-01,  9.9957e-01,  1.0000e+00,  1.0000e+00,  1.0000e+00,\n",
      "         1.0000e+00,  1.0000e+00])\n",
      "step_k =  tensor([ 18.7186])\n",
      "step_b =  tensor([-5.1527])\n",
      "____________\n",
      "step =  50000\n",
      "step_loss =  tensor([ 0.3807,  0.4851,  0.6105,  0.7579,  0.9273,  0.3959,  0.3078,\n",
      "         0.2371,  0.1811,  0.1374,  0.1038,  0.0780]) tensor(1.00000e-02 *\n",
      "       1.0007)\n",
      "step_k_grad =  tensor(1.00000e-03 *\n",
      "       [-1.2609])\n",
      "step_b_grad =  tensor(1.00000e-04 *\n",
      "       [ 3.5022])\n",
      "step_y_ =  tensor([ 1.2271e-11,  3.2351e-09,  8.5287e-07,  2.2479e-04,  5.5959e-02,\n",
      "         9.3986e-01,  9.9976e-01,  1.0000e+00,  1.0000e+00,  1.0000e+00,\n",
      "         1.0000e+00,  1.0000e+00])\n",
      "step_k =  tensor([ 20.0994])\n",
      "step_b =  tensor([-5.5363])\n",
      "____________\n",
      "step =  60000\n",
      "step_loss =  tensor([ 0.3807,  0.4851,  0.6105,  0.7579,  0.9273,  0.3959,  0.3078,\n",
      "         0.2371,  0.1811,  0.1374,  0.1038,  0.0780]) tensor(1.00000e-03 *\n",
      "       8.5421)\n",
      "step_k_grad =  tensor(1.00000e-03 *\n",
      "       [-1.0783])\n",
      "step_b_grad =  tensor(1.00000e-04 *\n",
      "       [ 3.0031])\n",
      "step_y_ =  tensor([ 2.8680e-12,  1.0445e-09,  3.8038e-07,  1.3851e-04,  4.8026e-02,\n",
      "         9.4838e-01,  9.9985e-01,  1.0000e+00,  1.0000e+00,  1.0000e+00,\n",
      "         1.0000e+00,  1.0000e+00])\n",
      "step_k =  tensor([ 21.2644])\n",
      "step_b =  tensor([-5.8597])\n",
      "____________\n",
      "step =  70000\n",
      "step_loss =  tensor([ 0.3807,  0.4851,  0.6105,  0.7579,  0.9273,  0.3959,  0.3078,\n",
      "         0.2371,  0.1811,  0.1374,  0.1038,  0.0780]) tensor(1.00000e-03 *\n",
      "       7.4481)\n",
      "step_k_grad =  tensor(1.00000e-04 *\n",
      "       [-9.4183])\n",
      "step_b_grad =  tensor(1.00000e-04 *\n",
      "       [ 2.6232])\n",
      "step_y_ =  tensor([ 8.1643e-13,  3.9312e-10,  1.8929e-07,  9.1137e-05,  4.2042e-02,\n",
      "         9.5482e-01,  9.9990e-01,  1.0000e+00,  1.0000e+00,  1.0000e+00,\n",
      "         1.0000e+00,  1.0000e+00])\n",
      "step_k =  tensor([ 22.2713])\n",
      "step_b =  tensor([-6.1393])\n",
      "____________\n",
      "step =  80000\n",
      "step_loss =  tensor([ 0.3807,  0.4851,  0.6105,  0.7579,  0.9273,  0.3959,  0.3078,\n",
      "         0.2371,  0.1811,  0.1374,  0.1038,  0.0780]) tensor(1.00000e-03 *\n",
      "       6.6001)\n",
      "step_k_grad =  tensor(1.00000e-04 *\n",
      "       [-8.3614])\n",
      "step_b_grad =  tensor(1.00000e-04 *\n",
      "       [ 2.3190])\n",
      "step_y_ =  tensor([ 2.7011e-13,  1.6631e-10,  1.0241e-07,  6.3050e-05,  3.7374e-02,\n",
      "         9.5985e-01,  9.9993e-01,  1.0000e+00,  1.0000e+00,  1.0000e+00,\n",
      "         1.0000e+00,  1.0000e+00])\n",
      "step_k =  tensor([ 23.1579])\n",
      "step_b =  tensor([-6.3855])\n",
      "____________\n",
      "step =  90000\n",
      "step_loss =  tensor([ 0.3807,  0.4851,  0.6105,  0.7579,  0.9273,  0.3959,  0.3078,\n",
      "         0.2371,  0.1811,  0.1374,  0.1038,  0.0780]) tensor(1.00000e-03 *\n",
      "       5.9236)\n",
      "step_k_grad =  tensor(1.00000e-04 *\n",
      "       [-7.5116])\n",
      "step_b_grad =  tensor(1.00000e-04 *\n",
      "       [ 2.0939])\n",
      "step_y_ =  tensor([ 1.0051e-13,  7.7090e-11,  5.9129e-08,  4.5351e-05,  3.3617e-02,\n",
      "         9.6387e-01,  9.9995e-01,  1.0000e+00,  1.0000e+00,  1.0000e+00,\n",
      "         1.0000e+00,  1.0000e+00])\n",
      "step_k =  tensor([ 23.9499])\n",
      "step_b =  tensor([-6.6052])\n",
      "____________\n",
      "step =  100000\n",
      "step_loss =  tensor([ 0.3807,  0.4851,  0.6105,  0.7579,  0.9273,  0.3959,  0.3078,\n",
      "         0.2371,  0.1811,  0.1374,  0.1038,  0.0780]) tensor(1.00000e-03 *\n",
      "       5.3719)\n",
      "step_k_grad =  tensor(1.00000e-04 *\n",
      "       [-6.8220])\n",
      "step_b_grad =  tensor(1.00000e-04 *\n",
      "       [ 1.8928])\n",
      "step_y_ =  tensor([ 4.1178e-14,  3.8514e-11,  3.6022e-08,  3.3690e-05,  3.0548e-02,\n",
      "         9.6718e-01,  9.9996e-01,  1.0000e+00,  1.0000e+00,  1.0000e+00,\n",
      "         1.0000e+00,  1.0000e+00])\n",
      "step_k =  tensor([ 24.6651])\n",
      "step_b =  tensor([-6.8039])\n",
      "____________\n"
     ]
    }
   ],
   "source": [
    "# Learning Loop \n",
    "for _ in range(100001):\n",
    "\n",
    "    y_ =  1 / (1+ torch.exp((-k*x + b)))\n",
    "    \n",
    "    #loss_vector = (y - y_)**2\n",
    "    #loss = loss_vector.mean()\n",
    "    \n",
    "    #loss_vector = - (y * torch.log(y_) + (1-y) * torch.log(1-y_))\n",
    "    #loss = loss_vector.mean()\n",
    "\n",
    "    loss = BCE(y_, y)\n",
    "\n",
    "    optimizer.zero_grad() # clean all grad    \n",
    "    loss.backward() # ~backprob~ step\n",
    "    \n",
    "    optimizer.step()\n",
    "    \n",
    "    if _ % 10000 == 0:\n",
    "        print('step = ', _)\n",
    "        print('step_loss = ', loss_vector, loss)\n",
    "        print('step_k_grad = ', k.grad)\n",
    "        print('step_b_grad = ', b.grad)\n",
    "        print('step_y_ = ', y_)\n",
    "        print('step_k = ', k)\n",
    "        print('step_b = ', b)\n",
    "        print('____________')"
   ]
  },
  {
   "cell_type": "code",
   "execution_count": 227,
   "metadata": {},
   "outputs": [
    {
     "data": {
      "image/png": "[encoded data removed]",
      "text/plain": [
       "<Figure size 432x288 with 1 Axes>"
      ]
     },
     "metadata": {
      "needs_background": "light"
     },
     "output_type": "display_data"
    }
   ],
   "source": [
    "plot_result(np.array(x), np.array(y), [float(b), float(k)])"
   ]
  },
  {
   "cell_type": "code",
   "execution_count": null,
   "metadata": {},
   "outputs": [],
   "source": []
  }
 ],
 "metadata": {
  "kernelspec": {
   "display_name": "Python 3",
   "language": "python",
   "name": "python3"
  },
  "language_info": {
   "codemirror_mode": {
    "name": "ipython",
    "version": 3
   },
   "file_extension": ".py",
   "mimetype": "text/x-python",
   "name": "python",
   "nbconvert_exporter": "python",
   "pygments_lexer": "ipython3",
   "version": "3.6.5"
  }
 },
 "nbformat": 4,
 "nbformat_minor": 2
}
