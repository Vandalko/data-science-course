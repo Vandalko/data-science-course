{
 "cells": [
  {
   "cell_type": "markdown",
   "metadata": {},
   "source": [
    "# SIMPLEST MNIST CLASSIFIER"
   ]
  },
  {
   "cell_type": "code",
   "execution_count": 57,
   "metadata": {},
   "outputs": [
    {
     "name": "stdout",
     "output_type": "stream",
     "text": [
      "60000 train samples\n",
      "10000 test samples\n"
     ]
    }
   ],
   "source": [
    "import keras\n",
    "from keras.datasets import mnist\n",
    "\n",
    "# the data, split between train and test sets\n",
    "(x_train, y_train), (x_test, y_test) = mnist.load_data()\n",
    "\n",
    "# from 28x28 to 784\n",
    "x_train = x_train.reshape(60000, 784)\n",
    "x_test = x_test.reshape(10000, 784)\n",
    "\n",
    "# from int to float\n",
    "x_train = x_train.astype('float32')\n",
    "x_test = x_test.astype('float32')\n",
    "\n",
    "# print shapes\n",
    "print(x_train.shape[0], 'train samples')\n",
    "print(x_test.shape[0], 'test samples')"
   ]
  },
  {
   "cell_type": "code",
   "execution_count": 49,
   "metadata": {},
   "outputs": [],
   "source": [
    "# import lib for plot\n",
    "import matplotlib.pyplot as plt\n",
    "import matplotlib.image as mpimg\n",
    "# import lib for math, matrix and vecors\n",
    "import numpy as np"
   ]
  },
  {
   "cell_type": "code",
   "execution_count": 60,
   "metadata": {},
   "outputs": [
    {
     "data": {
      "image/png": "[encoded data removed]",
      "text/plain": [
       "<Figure size 432x288 with 1 Axes>"
      ]
     },
     "metadata": {},
     "output_type": "display_data"
    }
   ],
   "source": [
    "# choose your \"best\" digits\n",
    "\n",
    "my_9 = plt.imshow(x_test[9].reshape(28,28))\n",
    "my_9 = x_test[9]\n",
    "\n",
    "my_1 = plt.imshow(x_test[5].reshape(28,28))\n",
    "my_1 = x_test[5]\n",
    "\n",
    "my_7 = plt.imshow(x_test[17].reshape(28,28))\n",
    "my_7 = x_test[17]\n",
    "\n",
    "my_4 = plt.imshow(x_test[19].reshape(28,28))\n",
    "my_4 = x_test[19]\n",
    "\n",
    "my_5 = plt.imshow(x_test[45].reshape(28,28))\n",
    "my_5 = x_test[45]\n",
    "\n",
    "my_0 = plt.imshow(x_test[69].reshape(28,28))\n",
    "my_0 = x_test[69]\n",
    "\n",
    "my_3 = plt.imshow(x_test[76].reshape(28,28))\n",
    "my_3 = x_test[76]\n",
    "\n",
    "my_2 = plt.imshow(x_test[82].reshape(28,28))\n",
    "my_2 = x_test[82]\n",
    "\n",
    "my_8 = plt.imshow(x_test[84].reshape(28,28))\n",
    "my_8 = x_test[84]\n",
    "\n",
    "my_6 = plt.imshow(x_test[91].reshape(28,28))\n",
    "my_6 = x_test[91]"
   ]
  },
  {
   "cell_type": "code",
   "execution_count": 67,
   "metadata": {},
   "outputs": [],
   "source": [
    "# test correctness\n",
    "total_correct = 0\n",
    "for i, ex in enumerate(x_test):\n",
    "    results = []\n",
    "    for my in [my_0, my_1, my_2, my_3, my_4, my_5, my_6, my_7, my_8, my_9]:\n",
    "        results.append((np.dot((ex - my),(ex - my))**0.5))\n",
    "    min_arg = np.array(results).argmin()\n",
    "    if min_arg == y_test[i]:\n",
    "        total_correct += 1"
   ]
  },
  {
   "cell_type": "code",
   "execution_count": 69,
   "metadata": {},
   "outputs": [
    {
     "name": "stdout",
     "output_type": "stream",
     "text": [
      "0.5188  accuracy\n"
     ]
    }
   ],
   "source": [
    "print(total_correct/len(y_test), ' accuracy')"
   ]
  },
  {
   "cell_type": "code",
   "execution_count": null,
   "metadata": {},
   "outputs": [],
   "source": []
  }
 ],
 "metadata": {
  "kernelspec": {
   "display_name": "Python 3",
   "language": "python",
   "name": "python3"
  },
  "language_info": {
   "codemirror_mode": {
    "name": "ipython",
    "version": 3
   },
   "file_extension": ".py",
   "mimetype": "text/x-python",
   "name": "python",
   "nbconvert_exporter": "python",
   "pygments_lexer": "ipython3",
   "version": "3.6.5"
  }
 },
 "nbformat": 4,
 "nbformat_minor": 2
}
